{
 "cells": [
  {
   "cell_type": "code",
   "execution_count": 1,
   "metadata": {},
   "outputs": [],
   "source": [
    "import os\n",
    "import sys\n",
    "import time\n",
    "from naoqi import ALProxy\n",
    "import numpy as np\n",
    "import cv2\n",
    "from datetime import datetime"
   ]
  },
  {
   "cell_type": "code",
   "execution_count": 2,
   "metadata": {},
   "outputs": [],
   "source": [
    "NAO_IP = \"10.0.107.217\"\n",
    "NAO_PORT = 9559\n",
    "PEPPER_IP = \"10.0.52.247\"\n",
    "PEPPER_PORT = 9503"
   ]
  },
  {
   "cell_type": "code",
   "execution_count": null,
   "metadata": {},
   "outputs": [],
   "source": [
    "def increase_brightness(img, value=80):\n",
    "  hsv = cv2.cvtColor(img, cv2.COLOR_BGR2HSV)\n",
    "  h, s, v = cv2.split(hsv)\n",
    "\n",
    "  lim = 255 - value\n",
    "  v[v > lim] = 255\n",
    "  v[v <= lim] += value\n",
    "\n",
    "  final_hsv = cv2.merge((h, s, v))\n",
    "  img = cv2.cvtColor(final_hsv, cv2.COLOR_HSV2BGR)\n",
    "  return img\n",
    "\n",
    "def get_feed(tts,subscriberID):\n",
    "  nao_image = tts.getImageRemote(str(subscriberID))\n",
    "\n",
    "  img = (np.reshape(np.frombuffer(nao_image[6], dtype = '%iuint8' % nao_image[2]), (nao_image[1], nao_image[0], nao_image[2])))\n",
    "  img = np.array(img)\n",
    "  \n",
    "  #img = increase_brightness(img)\n",
    "\n",
    "  # if(i == 0):  \n",
    "  frame_width = int(nao_image[0])\n",
    "  frame_height = int(nao_image[1])\n",
    "  size = (frame_width, frame_height)\n",
    "  result = cv2.VideoWriter('filename.avi', -1 , 10, size)\n",
    "    # i += 1\n",
    "  # define the alpha and beta\n",
    "  #contrast = 5. # Contrast control ( 0 to 127)\n",
    "  #brightness = 70. # Brightness control (0-100)\n",
    "\n",
    "  # call convertScaleAbs function\n",
    "  #img = cv2.addWeighted( img, contrast, img, 0, brightness)\n",
    "\n",
    "  # info = result.write(img)\n",
    "  result.write(img)\n",
    "  # print(info)\n",
    "  cv2.imshow(\"Input\", img)\n",
    "  # if (i > 100):\n",
    "  #   stop = True\n",
    "  # time.sleep(5)\n",
    "  k = cv2.waitKey(33)\n",
    "  # if k==27:    # Esc key to stop\n",
    "  #   break\n",
    "  return result"
   ]
  },
  {
   "attachments": {},
   "cell_type": "markdown",
   "metadata": {},
   "source": [
    "Video capture"
   ]
  },
  {
   "cell_type": "code",
   "execution_count": null,
   "metadata": {},
   "outputs": [],
   "source": [
    "tts = ALProxy(\"ALVideoDevice\", NAO_IP, NAO_PORT)\n",
    "camera_index = 0\n",
    "resolution = 3 # for VGA (640 x 480)\n",
    "colourspace = 11\n",
    "FPS = 5\n",
    "subscriberID = tts.subscribeCamera(\"subscriberID\", camera_index, resolution,colourspace, FPS)\n",
    "tts.openCamera(camera_index)\n",
    "tts.startCamera(camera_index)\n",
    "\n",
    "faceProxy = ALProxy(\"ALFaceDetection\", NAO_IP, NAO_PORT)\n",
    "\n",
    "print(\"ID is :\", subscriberID)\n",
    "\n",
    "ref_time = datetime.now()\n",
    "present_time = datetime.now()\n",
    "diff_in_time = 0 \n",
    "while (diff_in_time != 5):\n",
    "  # result = get_feed(tts,subscriberID)\n",
    "  # Implement the logic here \n",
    "\n",
    "  nao_image = tts.getImageRemote(str(subscriberID))\n",
    "\n",
    "  img = (np.reshape(np.frombuffer(nao_image[6], dtype = '%iuint8' % nao_image[2]), (nao_image[1], nao_image[0], nao_image[2])))\n",
    "  img = np.array(img)\n",
    "\n",
    "  frame_width = int(nao_image[0])\n",
    "  frame_height = int(nao_image[1])\n",
    "  size = (frame_width, frame_height)\n",
    "  result = cv2.VideoWriter('filename.avi', -1 , 10, size)\n",
    "\n",
    "  result.write(img)\n",
    "  # print(info)\n",
    "  cv2.imshow(\"Input\", img)\n",
    "  \n",
    "  # End of logic\n",
    "  present_time = datetime.now()\n",
    "  diff_in_time = int((present_time - ref_time).total_seconds())\n",
    "  # print(\"The time is :- \", diff_in_time)\n",
    "  k = cv2.waitKey(33)\n",
    "  if k == 27: # Esc to stop \n",
    "    break\n",
    "  # print (\"The diff in the time is:-\",diff_in_time)\n",
    "result.release()\n",
    "tts.releaseImage(\"subscriberID_5\")\n",
    "tts.unsubscribe(\"subscriberID_5\")\n",
    "cv2.destroyAllWindows()"
   ]
  },
  {
   "attachments": {},
   "cell_type": "markdown",
   "metadata": {},
   "source": [
    "Image Capture"
   ]
  },
  {
   "cell_type": "code",
   "execution_count": 4,
   "metadata": {},
   "outputs": [
    {
     "ename": "RuntimeError",
     "evalue": "\tALPhotoCapture::takePictures\n\t\tALPhotoCapture::takePictures\n\tThe path /home/sougato97/Human_Robot_Interaction cannot be created",
     "output_type": "error",
     "traceback": [
      "\u001b[0;31m\u001b[0m",
      "\u001b[0;31mRuntimeError\u001b[0mTraceback (most recent call last)",
      "\u001b[0;32m<ipython-input-4-01b728177066>\u001b[0m in \u001b[0;36m<module>\u001b[0;34m()\u001b[0m\n\u001b[1;32m     11\u001b[0m \u001b[0mphotoCaptureProxy\u001b[0m\u001b[0;34m.\u001b[0m\u001b[0msetResolution\u001b[0m\u001b[0;34m(\u001b[0m\u001b[0;36m2\u001b[0m\u001b[0;34m)\u001b[0m\u001b[0;34m\u001b[0m\u001b[0m\n\u001b[1;32m     12\u001b[0m \u001b[0mphotoCaptureProxy\u001b[0m\u001b[0;34m.\u001b[0m\u001b[0msetPictureFormat\u001b[0m\u001b[0;34m(\u001b[0m\u001b[0;34m\"jpg\"\u001b[0m\u001b[0;34m)\u001b[0m\u001b[0;34m\u001b[0m\u001b[0m\n\u001b[0;32m---> 13\u001b[0;31m \u001b[0mphotoCaptureProxy\u001b[0m\u001b[0;34m.\u001b[0m\u001b[0mtakePictures\u001b[0m\u001b[0;34m(\u001b[0m\u001b[0;36m3\u001b[0m\u001b[0;34m,\u001b[0m \u001b[0;34m\"/home/sougato97/Human_Robot_Interaction\"\u001b[0m\u001b[0;34m,\u001b[0m \u001b[0;34m\"image\"\u001b[0m\u001b[0;34m)\u001b[0m\u001b[0;34m\u001b[0m\u001b[0m\n\u001b[0m\u001b[1;32m     14\u001b[0m \u001b[0;34m\u001b[0m\u001b[0m\n\u001b[1;32m     15\u001b[0m \u001b[0;31m# This call returns ['/home/nao/recordings/cameras/image_0.jpg', '/home/nao/recordings/cameras/image_1.jpg', '/home/nao/recordings/cameras/image_2.jpg']\u001b[0m\u001b[0;34m\u001b[0m\u001b[0;34m\u001b[0m\u001b[0m\n",
      "\u001b[0;32m/home/sougato97/naoqi/pynaoqi-python2.7-2.8.6.23-linux64-20191127_152327/lib/python2.7/site-packages/naoqi.pyc\u001b[0m in \u001b[0;36m__call__\u001b[0;34m(self, *args, **kwargs)\u001b[0m\n\u001b[1;32m    192\u001b[0m                     \u001b[0mself\u001b[0m\u001b[0;34m.\u001b[0m\u001b[0m__method__\u001b[0m \u001b[0;34m=\u001b[0m \u001b[0mmethod\u001b[0m\u001b[0;34m\u001b[0m\u001b[0m\n\u001b[1;32m    193\u001b[0m                 \u001b[0;32mdef\u001b[0m \u001b[0m__call__\u001b[0m\u001b[0;34m(\u001b[0m\u001b[0mself\u001b[0m\u001b[0;34m,\u001b[0m \u001b[0;34m*\u001b[0m\u001b[0margs\u001b[0m\u001b[0;34m,\u001b[0m \u001b[0;34m**\u001b[0m\u001b[0mkwargs\u001b[0m\u001b[0;34m)\u001b[0m\u001b[0;34m:\u001b[0m\u001b[0;34m\u001b[0m\u001b[0m\n\u001b[0;32m--> 194\u001b[0;31m                     \u001b[0;32mreturn\u001b[0m \u001b[0mself\u001b[0m\u001b[0;34m.\u001b[0m\u001b[0m__wrapped__\u001b[0m\u001b[0;34m.\u001b[0m\u001b[0mmethod_missing\u001b[0m\u001b[0;34m(\u001b[0m\u001b[0mself\u001b[0m\u001b[0;34m.\u001b[0m\u001b[0m__method__\u001b[0m\u001b[0;34m,\u001b[0m \u001b[0;34m*\u001b[0m\u001b[0margs\u001b[0m\u001b[0;34m,\u001b[0m \u001b[0;34m**\u001b[0m\u001b[0mkwargs\u001b[0m\u001b[0;34m)\u001b[0m\u001b[0;34m\u001b[0m\u001b[0m\n\u001b[0m\u001b[1;32m    195\u001b[0m \u001b[0;34m\u001b[0m\u001b[0m\n\u001b[1;32m    196\u001b[0m             \u001b[0;32mreturn\u001b[0m \u001b[0mMethodMissing\u001b[0m\u001b[0;34m(\u001b[0m\u001b[0mself\u001b[0m\u001b[0;34m,\u001b[0m \u001b[0mattr\u001b[0m\u001b[0;34m)\u001b[0m\u001b[0;34m\u001b[0m\u001b[0m\n",
      "\u001b[0;32m/home/sougato97/naoqi/pynaoqi-python2.7-2.8.6.23-linux64-20191127_152327/lib/python2.7/site-packages/naoqi.pyc\u001b[0m in \u001b[0;36mmethod_missing\u001b[0;34m(self, method, *args, **kwargs)\u001b[0m\n\u001b[1;32m    262\u001b[0m                 \u001b[0mresult\u001b[0m \u001b[0;34m=\u001b[0m \u001b[0mself\u001b[0m\u001b[0;34m.\u001b[0m\u001b[0mpythonCall\u001b[0m\u001b[0;34m(\u001b[0m\u001b[0mlist\u001b[0m\u001b[0;34m)\u001b[0m\u001b[0;34m\u001b[0m\u001b[0m\n\u001b[1;32m    263\u001b[0m           \u001b[0;32mexcept\u001b[0m \u001b[0mRuntimeError\u001b[0m\u001b[0;34m,\u001b[0m\u001b[0me\u001b[0m\u001b[0;34m:\u001b[0m\u001b[0;34m\u001b[0m\u001b[0m\n\u001b[0;32m--> 264\u001b[0;31m                 \u001b[0;32mraise\u001b[0m \u001b[0me\u001b[0m\u001b[0;34m\u001b[0m\u001b[0m\n\u001b[0m\u001b[1;32m    265\u001b[0m                 \u001b[0;31m#print e.args[0]\u001b[0m\u001b[0;34m\u001b[0m\u001b[0;34m\u001b[0m\u001b[0m\n\u001b[1;32m    266\u001b[0m \u001b[0;34m\u001b[0m\u001b[0m\n",
      "\u001b[0;31mRuntimeError\u001b[0m: \tALPhotoCapture::takePictures\n\t\tALPhotoCapture::takePictures\n\tThe path /home/sougato97/Human_Robot_Interaction cannot be created"
     ]
    }
   ],
   "source": [
    "# Create a proxy to ALPhotoCapture\n",
    "try:\n",
    "  photoCaptureProxy = ALProxy(\"ALPhotoCapture\", NAO_IP, NAO_PORT)\n",
    "except Exception, e:\n",
    "  print \"Error when creating ALPhotoCapture proxy:\"\n",
    "  print str(e)\n",
    "  exit(1)\n",
    "\n",
    "# Take 3 pictures in VGA and store them in /home/nao/recordings/cameras/\n",
    "\n",
    "photoCaptureProxy.setResolution(2)\n",
    "photoCaptureProxy.setPictureFormat(\"jpg\")\n",
    "photoCaptureProxy.takePictures(3, \".\", \"image\")\n",
    "\n",
    "# This call returns ['/home/nao/recordings/cameras/image_0.jpg', '/home/nao/recordings/cameras/image_1.jpg', '/home/nao/recordings/cameras/image_2.jpg']"
   ]
  },
  {
   "cell_type": "code",
   "execution_count": null,
   "metadata": {},
   "outputs": [],
   "source": []
  }
 ],
 "metadata": {
  "kernelspec": {
   "display_name": "Python 3",
   "language": "python",
   "name": "python3"
  },
  "language_info": {
   "codemirror_mode": {
    "name": "ipython",
    "version": 2
   },
   "file_extension": ".py",
   "mimetype": "text/x-python",
   "name": "python",
   "nbconvert_exporter": "python",
   "pygments_lexer": "ipython2",
   "version": "2.7.17"
  },
  "orig_nbformat": 4,
  "vscode": {
   "interpreter": {
    "hash": "767d51c1340bd893661ea55ea3124f6de3c7a262a8b4abca0554b478b1e2ff90"
   }
  }
 },
 "nbformat": 4,
 "nbformat_minor": 2
}
