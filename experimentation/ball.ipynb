{
 "cells": [
  {
   "cell_type": "code",
   "execution_count": 77,
   "metadata": {},
   "outputs": [],
   "source": [
    "import os\n",
    "import sys\n",
    "import time\n",
    "from naoqi import ALProxy\n",
    "import numpy as np\n",
    "import cv2\n",
    "import time\n",
    "from datetime import datetime\n",
    "import os\n",
    "# import pika #1.1.0\n",
    "import base64\n",
    "import time \n",
    "import yaml\n",
    "import cv2\n",
    "import requests\n",
    "import json\n",
    "import numpy as np\n",
    "import matplotlib.pyplot as plt"
   ]
  },
  {
   "cell_type": "code",
   "execution_count": 78,
   "metadata": {},
   "outputs": [],
   "source": [
    "NAO_IP = \"10.0.255.8\"\n",
    "NAO_PORT = 9559\n",
    "PEPPER_IP = \"10.0.52.247\"\n",
    "PEPPER_PORT = 9503\n",
    "\n",
    "width = 1280\n",
    "height = 960\n",
    "channel = 3\n",
    " \n",
    "fps = 30\n",
    "sec = 5"
   ]
  },
  {
   "cell_type": "code",
   "execution_count": 83,
   "metadata": {},
   "outputs": [],
   "source": [
    "def detect(frame):\n",
    "  \n",
    "  img = frame.copy()\n",
    "  lower_red = np.array([0, 0, 90])\n",
    "  upper_red = np.array([120, 60, 255])\n",
    "  x,y,radius = None, None, None\n",
    "\n",
    "  # Create a mask to isolate the red color region in the RGB image\n",
    "  frame = cv2.inRange(frame, lower_red, upper_red)\n",
    "  kernel = np.ones((3, 3), np.float32) / 9\n",
    "\n",
    "  frame = cv2.erode(frame, kernel, iterations=3)\n",
    "\n",
    "  contours, _ = cv2.findContours(frame, cv2.RETR_EXTERNAL, cv2.CHAIN_APPROX_SIMPLE)\n",
    "\n",
    "  # If contours are found\n",
    "  if contours:\n",
    "    # Get the largest contour (assuming it's the blob)\n",
    "      largest_contour = max(contours, key=cv2.contourArea)\n",
    "      \n",
    "      # Find the minimum enclosing circle for the contour\n",
    "      (x, y), radius = cv2.minEnclosingCircle(largest_contour)\n",
    "      \n",
    "      # Convert the coordinates to integers\n",
    "      center = (int(x), int(y))\n",
    "      radius = int(radius)\n",
    "      \n",
    "      # Draw the minimum enclosing circle on a color image\n",
    "      frame = cv2.cvtColor(frame, cv2.COLOR_GRAY2BGR)  # Convert to color image\n",
    "      cv2.circle(img, center, radius, (255, 0, 0), 2)  # Draw red circle\n",
    "      \n",
    "      #print(\"Radius of the blob:\", radius)\n",
    "  else:\n",
    "      print(\"No blob found.\")\n",
    "\n",
    "      \n",
    "  return img , x,y,radius"
   ]
  },
  {
   "cell_type": "code",
   "execution_count": 84,
   "metadata": {},
   "outputs": [
    {
     "name": "stdout",
     "output_type": "stream",
     "text": [
      "('id : ', 'subscriberID_1')\n",
      "(354.5, 3.0, 3)\n",
      "(738.5, 96.5, 2)\n",
      "(717.0, 87.5, 2)\n",
      "(723.0, 90.5, 1)\n",
      "(402.0, 19.5, 1)\n",
      "(5.0, 732.5, 6)\n",
      "(213.4337158203125, 703.554931640625, 81)\n",
      "(232.28932189941406, 746.2408447265625, 86)\n",
      "(216.0459442138672, 767.5025634765625, 93)\n",
      "(212.9289093017578, 783.862060546875, 89)\n",
      "(222.0054168701172, 805.291259765625, 93)\n",
      "(228.22157287597656, 798.8563842773438, 92)\n",
      "(219.61509704589844, 801.9205932617188, 86)\n",
      "(181.50741577148438, 792.0842895507812, 85)\n",
      "(141.26324462890625, 755.0693359375, 85)\n",
      "(113.7894287109375, 729.7160034179688, 84)\n",
      "(96.09602355957031, 704.2615966796875, 84)\n",
      "(72.3766098022461, 668.3271484375, 82)\n",
      "(57.67357635498047, 643.2905883789062, 81)\n",
      "(33.29999923706055, 640.375, 78)\n",
      "(30.825559616088867, 612.3141479492188, 56)\n",
      "(742.0, 99.0, 0)\n",
      "(21.28862190246582, 581.5872192382812, 72)\n",
      "(169.89549255371094, 606.3534545898438, 84)\n",
      "(476.4599914550781, 656.4447021484375, 93)\n",
      "(692.5, 665.0, 104)\n",
      "(795.6889038085938, 598.2113037109375, 91)\n",
      "(849.5, 528.5, 108)\n",
      "(950.4269409179688, 516.0839233398438, 90)\n",
      "(1014.0, 514.5, 90)\n",
      "(991.4580688476562, 493.6946105957031, 89)\n",
      "(956.0, 475.0, 95)\n",
      "(983.8257446289062, 356.380126953125, 112)\n",
      "(1124.73193359375, 171.16722106933594, 110)\n",
      "(1168.90283203125, 74.5, 119)\n",
      "(1196.6666259765625, 61.0, 102)\n",
      "(1257.954345703125, 64.47715759277344, 65)\n",
      "(1240.4158935546875, 113.0, 70)\n",
      "(1206.7530517578125, 106.5, 96)\n",
      "(1092.1484375, 75.52841186523438, 136)\n",
      "(686.3920288085938, 91.41875457763672, 123)\n",
      "(395.5, 120.5, 59)\n",
      "(209.2283172607422, 125.25202178955078, 100)\n",
      "(75.67947387695312, 161.61192321777344, 97)\n",
      "(39.0, 172.0, 73)\n",
      "(34.27777862548828, 199.0, 46)\n",
      "(23.285715103149414, 195.5, 33)\n",
      "(10.0, 202.0, 25)\n",
      "(8.0, 206.0, 24)\n",
      "(23.714284896850586, 99.5, 33)\n",
      "(62.05769348144531, 47.0, 77)\n",
      "(127.0, 26.5, 91)\n",
      "(115.54639434814453, 64.92194366455078, 96)\n",
      "(86.6306381225586, 73.85418701171875, 98)\n",
      "(59.0, 79.0, 98)\n",
      "(52.5, 81.0, 96)\n",
      "(50.0, 82.5, 96)\n",
      "(46.0, 85.0, 96)\n",
      "(48.03836441040039, 86.33665466308594, 97)\n",
      "(51.0, 90.0, 97)\n",
      "(58.08496856689453, 100.81227111816406, 98)\n",
      "(53.0, 101.5, 98)\n",
      "(65.54193878173828, 93.214599609375, 98)\n",
      "(77.8836441040039, 86.16582489013672, 100)\n",
      "(76.80809020996094, 94.9425277709961, 99)\n",
      "(80.96959686279297, 88.67640686035156, 100)\n",
      "(72.68309783935547, 96.05633544921875, 99)\n",
      "(70.68194580078125, 99.62689971923828, 99)\n",
      "(72.01949310302734, 96.13870239257812, 98)\n",
      "(73.30536651611328, 92.94058227539062, 99)\n",
      "(78.01309204101562, 91.75920867919922, 99)\n",
      "(69.02645111083984, 94.3669662475586, 99)\n",
      "(47.673465728759766, 103.39738464355469, 98)\n",
      "(37.4638557434082, 116.5, 78)\n",
      "(26.846153259277344, 166.0, 38)\n",
      "(9.899999618530273, 190.5, 23)\n",
      "(40.60714340209961, 167.5, 46)\n",
      "(82.5, 176.5, 86)\n",
      "(85.0, 176.5, 87)\n",
      "(106.5, 174.0, 97)\n",
      "(204.5, 204.5, 86)\n",
      "(464.5, 247.0, 86)\n",
      "(596.001220703125, 262.1075439453125, 87)\n",
      "(658.8212280273438, 253.35720825195312, 90)\n",
      "(778.0512084960938, 243.46627807617188, 93)\n",
      "(852.3056030273438, 230.6927490234375, 142)\n",
      "(953.7969970703125, 192.53469848632812, 113)\n",
      "(1022.310546875, 219.1332550048828, 121)\n",
      "(1056.0693359375, 208.4752197265625, 118)\n",
      "(1076.0465087890625, 204.74234008789062, 120)\n",
      "(1076.622314453125, 198.69662475585938, 129)\n",
      "(1162.0489501953125, 190.1968994140625, 113)\n",
      "(1175.270751953125, 190.52142333984375, 108)\n",
      "(1218.402099609375, 212.03724670410156, 107)\n",
      "(1184.0, 205.5, 105)\n",
      "(1143.2720947265625, 197.95285034179688, 104)\n",
      "(1064.9951171875, 177.8456268310547, 96)\n",
      "(996.1105346679688, 169.11265563964844, 93)\n",
      "(963.2039794921875, 156.5098876953125, 93)\n",
      "(946.5475463867188, 161.29898071289062, 94)\n",
      "(943.1708984375, 155.49295043945312, 95)\n",
      "(931.7734985351562, 148.33346557617188, 110)\n",
      "(808.2603149414062, 97.78417205810547, 107)\n",
      "(873.01513671875, 93.4188461303711, 107)\n",
      "(1016.4586181640625, 97.4241714477539, 107)\n",
      "(714.5, 72.0, 107)\n",
      "(483.5, 122.5, 124)\n",
      "(431.5, 118.5, 119)\n",
      "(623.20263671875, 98.06737518310547, 107)\n",
      "(955.0513305664062, 109.2779769897461, 113)\n",
      "(1135.052978515625, 145.6767120361328, 99)\n",
      "(1158.5379638671875, 150.0083465576172, 99)\n",
      "(1179.6591796875, 127.0531234741211, 95)\n",
      "(1217.6768798828125, 93.32307434082031, 92)\n",
      "(1244.199951171875, 138.5, 55)\n",
      "(1244.4832763671875, 149.0, 55)\n",
      "(1233.971923828125, 152.0, 62)\n",
      "(1246.2235107421875, 152.0, 54)\n",
      "(1248.34326171875, 156.5, 52)\n",
      "(1250.1138916015625, 161.0, 50)\n",
      "(1249.074951171875, 157.5, 51)\n",
      "(1233.364501953125, 163.0, 62)\n",
      "(1201.5, 57.0, 96)\n",
      "(1191.61181640625, 55.122962951660156, 89)\n",
      "(1175.324951171875, 53.74385070800781, 88)\n",
      "(1180.635498046875, 64.99432373046875, 90)\n",
      "(1185.6263427734375, 64.79120635986328, 89)\n",
      "(1240.4906005859375, 313.0, 67)\n",
      "(1253.4552001953125, 593.5, 53)\n",
      "(1245.625, 739.0, 62)\n",
      "(1244.0, 894.0, 60)\n",
      "(1250.5, 908.0, 58)\n",
      "(1245.73583984375, 923.9221801757812, 48)\n",
      "(1251.5, 920.0, 47)\n",
      "(1257.5, 912.0, 51)\n",
      "(1262.0, 900.5, 60)\n",
      "(1261.5, 903.5, 58)\n",
      "(1264.5, 900.5, 60)\n",
      "(1271.0, 894.0, 48)\n",
      "(1255.0, 908.0, 56)\n",
      "(1037.5, 909.5, 131)\n",
      "(751.0, 114.5, 0)\n",
      "(570.5, 271.0, 3)\n",
      "(397.0, 4.0, 4)\n",
      "(736.0, 107.5, 4)\n",
      "(723.5, 94.5, 2)\n",
      "(733.0, 108.0, 11)\n",
      "(735.5, 109.5, 6)\n",
      "(563.5, 619.0, 2)\n",
      "(733.0, 104.5, 7)\n",
      "(736.5, 106.5, 1)\n",
      "(736.0, 104.0, 5)\n",
      "(729.9444580078125, 96.27777862548828, 3)\n",
      "(740.5, 113.5, 2)\n",
      "(732.2777709960938, 101.94444274902344, 3)\n"
     ]
    }
   ],
   "source": [
    "tts = ALProxy(\"ALVideoDevice\", NAO_IP, NAO_PORT)\n",
    "camera_index = 0\n",
    "resolution = 3\n",
    "colourspace = 11\n",
    "FPS = 5\n",
    "\n",
    "subscriberID = tts.subscribeCamera(\"subscriberID\", camera_index, resolution,colourspace, FPS)\n",
    "print(\"id : \" , subscriberID)\n",
    "tts.openCamera(camera_index)\n",
    "tts.startCamera(camera_index)\n",
    "\n",
    "\n",
    "while True:\n",
    "\n",
    "  nao_image = tts.getImageRemote(str(subscriberID))\n",
    "\n",
    "  img = (np.reshape(np.frombuffer(nao_image[6], dtype = '%iuint8' % nao_image[2]), (nao_image[1], nao_image[0], nao_image[2])))\n",
    "  img = np.array(img)\n",
    "  #img = np.flipud(img)\n",
    "  # cv2.imwrite(\"img.jpg\" , img)\n",
    "\n",
    "  img = cv2.cvtColor(img,cv2.COLOR_RGB2BGR) \n",
    "\n",
    "  # print( (nao_image[1], nao_image[0], nao_image[2]) , time.time())\n",
    "\n",
    "  img , x,y, radius = detect(img)\n",
    "  print(x , y, radius)\n",
    "  if radius > 50:\n",
    "    \n",
    "  cv2.imshow(\"Output\", img)\n",
    "\n",
    "  k = cv2.waitKey(33)\n",
    "  if k==27:    # Esc key to stop\n",
    "    break\n",
    "  \n",
    "tts.releaseImage(subscriberID)\n",
    "tts.unsubscribe(subscriberID)\n",
    "\n",
    "cv2.destroyAllWindows()"
   ]
  },
  {
   "cell_type": "code",
   "execution_count": 76,
   "metadata": {},
   "outputs": [
    {
     "data": {
      "text/plain": [
       "True"
      ]
     },
     "execution_count": 76,
     "metadata": {},
     "output_type": "execute_result"
    }
   ],
   "source": [
    "tts.releaseImage(subscriberID)\n",
    "tts.unsubscribe(subscriberID)"
   ]
  },
  {
   "cell_type": "code",
   "execution_count": 9,
   "metadata": {},
   "outputs": [],
   "source": [
    "motion_service = ALProxy(\"ALMotion\" , NAO_IP, NAO_PORT)\n",
    "\n",
    "motion_service.setStiffnesses(\"RArm\", 1.0)\n",
    "\n",
    "names = \"RElbowRoll\"\n",
    "angles = 1.5\n",
    "fractionMaxSpeed = 0.1\n",
    "\n",
    "motion_service.setAngles(names, angles, fractionMaxSpeed)\n",
    "\n",
    "# time.sleep(5)\n",
    "\n",
    "# motion_service.setStiffnesses(\"RElbowRoll\", 0.0)"
   ]
  },
  {
   "cell_type": "code",
   "execution_count": 39,
   "metadata": {},
   "outputs": [],
   "source": [
    "motion_service = ALProxy(\"ALMotion\" , NAO_IP, NAO_PORT)\n",
    "target_angles = [1.5, 0.0, 0.0, 0.0] \n",
    "max_speed_fraction = 0.3\n",
    "\n",
    "motion_service.setSmartStiffnessEnabled(False)\n",
    "motion_service.setIdlePostureEnabled(\"RArm\",False)\n",
    "\n",
    "motion_service.setStiffnesses(\"RArm\", 1.0)\n",
    "\n",
    "time.sleep(3)\n",
    "motion_service.setAngles( [\"RShoulderPitch\", \"RShoulderRoll\", \"RElbowYaw\", \"RElbowRoll\"], target_angles, max_speed_fraction)\n"
   ]
  },
  {
   "cell_type": "code",
   "execution_count": 59,
   "metadata": {},
   "outputs": [],
   "source": [
    "motion_service = ALProxy(\"ALMotion\" , NAO_IP, NAO_PORT)\n",
    "target_angles = [0.9, 1.5, 2.0, -1.5, 1.8, -0.9, -1.5, -2.0, 1.5, -1.8 ] \n",
    "target_angles1 = [ -elem for elem in target_angles ]\n",
    "\n",
    "t = [0,0, 0,0, 0,0 ,0,0 , 0,0 ] \n",
    "\n",
    "max_speed_fraction = 0.3\n",
    "\n",
    "motion_service.setSmartStiffnessEnabled(False)\n",
    "motion_service.setIdlePostureEnabled(\"LArm\",False)\n",
    "\n",
    "motion_service.setStiffnesses(\"LArm\", 1.0)\n",
    "\n",
    "motion_service.setSmartStiffnessEnabled(False)\n",
    "motion_service.setIdlePostureEnabled(\"RArm\",False)\n",
    "\n",
    "motion_service.setStiffnesses(\"RArm\", 1.0)\n",
    "\n",
    "time.sleep(3)\n",
    "motion_service.setAngles( [\"LShoulderPitch\", \"LShoulderRoll\", \"LElbowYaw\", \"LElbowRoll\", \"LWristYaw\", \"RShoulderPitch\", \"RShoulderRoll\", \"RElbowYaw\", \"RElbowRoll\", \"RWristYaw\"], t, max_speed_fraction)\n",
    "\n"
   ]
  },
  {
   "cell_type": "code",
   "execution_count": null,
   "metadata": {},
   "outputs": [],
   "source": [
    "motion_service = ALProxy(\"ALMotion\" , NAO_IP, NAO_PORT)\n",
    "target_angles = [0.9, 1.5, 2.0, -1.5, 1.8] \n",
    "#target_angles = [0.0, 0.0, 0.0, 0.0, 0.0] \n",
    "\n",
    "max_speed_fraction = 0.3\n",
    "\n",
    "motion_service.setSmartStiffnessEnabled(False)\n",
    "motion_service.setIdlePostureEnabled(\"LArm\",False)\n",
    "\n",
    "motion_service.setStiffnesses(\"LArm\", 1.0)\n",
    "\n",
    "time.sleep(3)\n",
    "motion_service.setAngles( [\"LShoulderPitch\", \"LShoulderRoll\", \"LElbowYaw\", \"LElbowRoll\", \"LWristYaw\"], target_angles, max_speed_fraction)\n"
   ]
  },
  {
   "cell_type": "code",
   "execution_count": 112,
   "metadata": {},
   "outputs": [],
   "source": [
    "motion_service.closeHand('RHand')"
   ]
  },
  {
   "cell_type": "code",
   "execution_count": 112,
   "metadata": {},
   "outputs": [],
   "source": [
    "motion_service = ALProxy(\"ALMotion\" , NAO_IP, NAO_PORT)\n",
    "\n",
    "\n",
    "motion_service.setStiffnesses(\"Head\", 1.0)\n",
    "\n",
    "# Simple command for the HeadYaw joint at 10% max speed\n",
    "names            = [\"HeadYaw\", \"HeadPitch\"]\n",
    "angles           = [0.0,0.0]\n",
    "fractionMaxSpeed = 0.2\n",
    "motion_service.setAngles(names,angles,fractionMaxSpeed)\n"
   ]
  },
  {
   "cell_type": "code",
   "execution_count": 51,
   "metadata": {},
   "outputs": [],
   "source": [
    "cv2.destroyAllWindows()"
   ]
  },
  {
   "cell_type": "code",
   "execution_count": 82,
   "metadata": {},
   "outputs": [
    {
     "data": {
      "text/plain": [
       "<matplotlib.image.AxesImage at 0x7fe6484e4810>"
      ]
     },
     "execution_count": 82,
     "metadata": {},
     "output_type": "execute_result"
    },
    {
     "data": {
      "image/png": "[encoded data removed]",
      "text/plain": [
       "<Figure size 432x288 with 1 Axes>"
      ]
     },
     "metadata": {
      "needs_background": "light"
     },
     "output_type": "display_data"
    }
   ],
   "source": [
    "frame = cv2.imread(\"img.jpg\")\n",
    "\n",
    "lower_red = np.array([0, 0, 90])\n",
    "upper_red = np.array([120, 60, 255])\n",
    "\n",
    "# Create a mask to isolate the red color region in the RGB image\n",
    "mask = cv2.inRange(frame, lower_red, upper_red)\n",
    "kernel = np.ones((3, 3), np.float32) / 9\n",
    "\n",
    "mask = cv2.erode(mask, kernel, iterations=3)\n",
    "# plt.imshow(mask)"
   ]
  },
  {
   "cell_type": "code",
   "execution_count": 53,
   "metadata": {},
   "outputs": [
    {
     "name": "stdout",
     "output_type": "stream",
     "text": [
      "No blob found.\n"
     ]
    }
   ],
   "source": [
    "# Find contours in the image\n",
    "contours, _ = cv2.findContours(mask, cv2.RETR_EXTERNAL, cv2.CHAIN_APPROX_SIMPLE)\n",
    "\n",
    "# If contours are found\n",
    "if contours:\n",
    "   # Get the largest contour (assuming it's the blob)\n",
    "    largest_contour = max(contours, key=cv2.contourArea)\n",
    "    \n",
    "    # Find the minimum enclosing circle for the contour\n",
    "    (x, y), radius = cv2.minEnclosingCircle(largest_contour)\n",
    "    \n",
    "    # Convert the coordinates to integers\n",
    "    center = (int(x), int(y))\n",
    "    radius = int(radius)\n",
    "    \n",
    "    # Draw the minimum enclosing circle on a color image\n",
    "    image_with_circle = cv2.cvtColor(mask, cv2.COLOR_GRAY2BGR)  # Convert to color image\n",
    "    cv2.circle(image_with_circle, center, radius, (0, 0, 255), 2)  # Draw red circle\n",
    "    \n",
    "    print(\"Radius of the blob:\", radius)\n",
    "else:\n",
    "    print(\"No blob found.\")"
   ]
  },
  {
   "cell_type": "code",
   "execution_count": 54,
   "metadata": {},
   "outputs": [
    {
     "ename": "NameError",
     "evalue": "name 'image_with_circle' is not defined",
     "output_type": "error",
     "traceback": [
      "\u001b[0;31m\u001b[0m",
      "\u001b[0;31mNameError\u001b[0mTraceback (most recent call last)",
      "\u001b[0;32m<ipython-input-54-4e63d0bc04e5>\u001b[0m in \u001b[0;36m<module>\u001b[0;34m()\u001b[0m\n\u001b[0;32m----> 1\u001b[0;31m \u001b[0mplt\u001b[0m\u001b[0;34m.\u001b[0m\u001b[0mimshow\u001b[0m\u001b[0;34m(\u001b[0m\u001b[0mimage_with_circle\u001b[0m\u001b[0;34m)\u001b[0m\u001b[0;34m\u001b[0m\u001b[0m\n\u001b[0m",
      "\u001b[0;31mNameError\u001b[0m: name 'image_with_circle' is not defined"
     ]
    }
   ],
   "source": [
    "plt.imshow(image_with_circle)"
   ]
  },
  {
   "cell_type": "code",
   "execution_count": null,
   "metadata": {},
   "outputs": [
    {
     "data": {
      "text/plain": [
       "<matplotlib.image.AxesImage at 0x7fe59dd6f050>"
      ]
     },
     "execution_count": 15,
     "metadata": {},
     "output_type": "execute_result"
    },
    {
     "data": {
      "image/png": "[encoded data removed]",
      "text/plain": [
       "<Figure size 432x288 with 1 Axes>"
      ]
     },
     "metadata": {
      "needs_background": "light"
     },
     "output_type": "display_data"
    }
   ],
   "source": [
    "lower_red = np.array([0, 0, 100])\n",
    "upper_red = np.array([120, 200, 255])\n",
    "\n",
    "# Create a mask to isolate the red color region in the RGB image\n",
    "mask = cv2.inRange(frame, lower_red, upper_red)\n",
    "plt.imshow(mask)"
   ]
  },
  {
   "cell_type": "code",
   "execution_count": null,
   "metadata": {},
   "outputs": [
    {
     "ename": "NameError",
     "evalue": "name 'red_Low' is not defined",
     "output_type": "error",
     "traceback": [
      "\u001b[0;31m\u001b[0m",
      "\u001b[0;31mNameError\u001b[0mTraceback (most recent call last)",
      "\u001b[0;32m<ipython-input-16-421d902b93ed>\u001b[0m in \u001b[0;36m<module>\u001b[0;34m()\u001b[0m\n\u001b[1;32m      1\u001b[0m \u001b[0mhsv\u001b[0m \u001b[0;34m=\u001b[0m \u001b[0mcv2\u001b[0m\u001b[0;34m.\u001b[0m\u001b[0mcvtColor\u001b[0m\u001b[0;34m(\u001b[0m\u001b[0mframe\u001b[0m\u001b[0;34m,\u001b[0m \u001b[0mcv2\u001b[0m\u001b[0;34m.\u001b[0m\u001b[0mCOLOR_BGR2HSV\u001b[0m\u001b[0;34m)\u001b[0m\u001b[0;34m\u001b[0m\u001b[0m\n\u001b[0;32m----> 2\u001b[0;31m \u001b[0mmask\u001b[0m \u001b[0;34m=\u001b[0m \u001b[0mcv2\u001b[0m\u001b[0;34m.\u001b[0m\u001b[0minRange\u001b[0m\u001b[0;34m(\u001b[0m\u001b[0mhsv\u001b[0m\u001b[0;34m,\u001b[0m \u001b[0mred_Low\u001b[0m\u001b[0;34m,\u001b[0m \u001b[0mred_Up\u001b[0m\u001b[0;34m)\u001b[0m\u001b[0;34m\u001b[0m\u001b[0m\n\u001b[0m\u001b[1;32m      3\u001b[0m \u001b[0mplt\u001b[0m\u001b[0;34m.\u001b[0m\u001b[0mimshow\u001b[0m\u001b[0;34m(\u001b[0m\u001b[0mmask\u001b[0m\u001b[0;34m)\u001b[0m\u001b[0;34m\u001b[0m\u001b[0m\n",
      "\u001b[0;31mNameError\u001b[0m: name 'red_Low' is not defined"
     ]
    }
   ],
   "source": [
    "hsv = cv2.cvtColor(frame, cv2.COLOR_BGR2HSV)\n",
    "mask = cv2.inRange(hsv, red_Low, red_Up)\n",
    "plt.imshow(mask)"
   ]
  },
  {
   "cell_type": "code",
   "execution_count": null,
   "metadata": {},
   "outputs": [
    {
     "data": {
      "text/plain": [
       "True"
      ]
     },
     "execution_count": 62,
     "metadata": {},
     "output_type": "execute_result"
    }
   ],
   "source": [
    "\n",
    "\n",
    "mask = cv2.erode(mask, None, iterations=2)\n",
    "mask = cv2.dilate(mask, None, iterations=2)\n",
    "cnts = cv2.findContours(mask.copy(), cv2.RETR_EXTERNAL, cv2.CHAIN_APPROX_SIMPLE)[-2]\n",
    "centre = None\n",
    "if len(cnts) > 0:\n",
    "    c = max(cnts, key = cv2.contourArea)\n",
    "    ((x, y), radius) = cv2.minEnclosingCircle(c)\n",
    "    M = cv2.moments(c)\n",
    "    centre = (int(M[\"m10\"]/M[\"m00\"]), int(M[\"m01\"]/M[\"m00\"]))\n",
    "    if radius > 10:\n",
    "        flag_red_ball = 1\n",
    "        cv2.circle(frame, (int(x), int(y)), int(radius), (0, 255, 255), 2)\n",
    "        cv2.circle(frame, centre, 3, (0, 0, 255), -1)\n",
    "cv2.imwrite('Frame.jpg', frame)"
   ]
  },
  {
   "cell_type": "code",
   "execution_count": 100,
   "metadata": {},
   "outputs": [],
   "source": [
    "\n",
    "posture_service = ALProxy(\"ALRobotPosture\" , NAO_IP, NAO_PORT)"
   ]
  },
  {
   "cell_type": "code",
   "execution_count": 102,
   "metadata": {},
   "outputs": [
    {
     "data": {
      "text/plain": [
       "True"
      ]
     },
     "execution_count": 102,
     "metadata": {},
     "output_type": "execute_result"
    }
   ],
   "source": [
    "posture_service.goToPosture(\"Stand\", 0.3)"
   ]
  },
  {
   "cell_type": "code",
   "execution_count": null,
   "metadata": {},
   "outputs": [],
   "source": []
  }
 ],
 "metadata": {
  "kernelspec": {
   "display_name": "Python 3",
   "language": "python",
   "name": "python3"
  },
  "language_info": {
   "codemirror_mode": {
    "name": "ipython",
    "version": 2
   },
   "file_extension": ".py",
   "mimetype": "text/x-python",
   "name": "python",
   "nbconvert_exporter": "python",
   "pygments_lexer": "ipython2",
   "version": "2.7.17"
  },
  "orig_nbformat": 4
 },
 "nbformat": 4,
 "nbformat_minor": 2
}
