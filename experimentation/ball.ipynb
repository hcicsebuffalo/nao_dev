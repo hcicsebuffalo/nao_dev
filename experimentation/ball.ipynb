{
 "cells": [
  {
   "cell_type": "code",
   "execution_count": 73,
   "metadata": {},
   "outputs": [],
   "source": [
    "import os\n",
    "import sys\n",
    "import time\n",
    "from naoqi import ALProxy\n",
    "import numpy as np\n",
    "import cv2\n",
    "import time\n",
    "from datetime import datetime\n",
    "import os\n",
    "# import pika #1.1.0\n",
    "import base64\n",
    "import time \n",
    "import yaml\n",
    "import cv2\n",
    "import requests\n",
    "import json\n",
    "import numpy as np\n",
    "import matplotlib.pyplot as plt"
   ]
  },
  {
   "cell_type": "code",
   "execution_count": 74,
   "metadata": {},
   "outputs": [],
   "source": [
    "NAO_IP = \"10.0.255.8\"\n",
    "NAO_PORT = 9559\n",
    "PEPPER_IP = \"10.0.52.247\"\n",
    "PEPPER_PORT = 9503\n",
    "\n",
    "width = 1280\n",
    "height = 960\n",
    "channel = 3\n",
    " \n",
    "fps = 30\n",
    "sec = 5"
   ]
  },
  {
   "cell_type": "code",
   "execution_count": 83,
   "metadata": {},
   "outputs": [],
   "source": [
    "def detect(frame):\n",
    "  \n",
    "  img = frame.copy()\n",
    "  lower_red = np.array([0, 0, 90])\n",
    "  upper_red = np.array([120, 60, 255])\n",
    "\n",
    "  # Create a mask to isolate the red color region in the RGB image\n",
    "  frame = cv2.inRange(frame, lower_red, upper_red)\n",
    "  kernel = np.ones((3, 3), np.float32) / 9\n",
    "\n",
    "  frame = cv2.erode(frame, kernel, iterations=3)\n",
    "\n",
    "  contours, _ = cv2.findContours(frame, cv2.RETR_EXTERNAL, cv2.CHAIN_APPROX_SIMPLE)\n",
    "\n",
    "  # If contours are found\n",
    "  if contours:\n",
    "    # Get the largest contour (assuming it's the blob)\n",
    "      largest_contour = max(contours, key=cv2.contourArea)\n",
    "      \n",
    "      # Find the minimum enclosing circle for the contour\n",
    "      (x, y), radius = cv2.minEnclosingCircle(largest_contour)\n",
    "      \n",
    "      # Convert the coordinates to integers\n",
    "      center = (int(x), int(y))\n",
    "      radius = int(radius)\n",
    "      \n",
    "      # Draw the minimum enclosing circle on a color image\n",
    "      frame = cv2.cvtColor(frame, cv2.COLOR_GRAY2BGR)  # Convert to color image\n",
    "      cv2.circle(img, center, radius, (0, 0, 255), 2)  # Draw red circle\n",
    "      \n",
    "      print(\"Radius of the blob:\", radius)\n",
    "  else:\n",
    "      print(\"No blob found.\")\n",
    "\n",
    "      \n",
    "  return img"
   ]
  },
  {
   "cell_type": "code",
   "execution_count": 84,
   "metadata": {},
   "outputs": [
    {
     "name": "stdout",
     "output_type": "stream",
     "text": [
      "('id : ', 'subscriberID_2')\n",
      "('Radius of the blob:', 68)\n",
      "('Radius of the blob:', 69)\n",
      "('Radius of the blob:', 71)\n",
      "('Radius of the blob:', 70)\n",
      "('Radius of the blob:', 67)\n",
      "('Radius of the blob:', 68)\n",
      "('Radius of the blob:', 67)\n",
      "('Radius of the blob:', 69)\n",
      "('Radius of the blob:', 69)\n",
      "('Radius of the blob:', 15)\n",
      "('Radius of the blob:', 67)\n",
      "('Radius of the blob:', 72)\n",
      "('Radius of the blob:', 79)\n",
      "('Radius of the blob:', 94)\n",
      "('Radius of the blob:', 106)\n",
      "('Radius of the blob:', 111)\n",
      "('Radius of the blob:', 115)\n",
      "('Radius of the blob:', 141)\n",
      "('Radius of the blob:', 176)\n",
      "('Radius of the blob:', 177)\n",
      "('Radius of the blob:', 164)\n",
      "('Radius of the blob:', 165)\n",
      "('Radius of the blob:', 175)\n",
      "('Radius of the blob:', 177)\n",
      "('Radius of the blob:', 165)\n",
      "('Radius of the blob:', 170)\n",
      "('Radius of the blob:', 157)\n",
      "('Radius of the blob:', 147)\n",
      "('Radius of the blob:', 142)\n",
      "('Radius of the blob:', 145)\n",
      "('Radius of the blob:', 147)\n",
      "('Radius of the blob:', 150)\n",
      "('Radius of the blob:', 149)\n",
      "('Radius of the blob:', 155)\n",
      "('Radius of the blob:', 149)\n",
      "('Radius of the blob:', 156)\n",
      "('Radius of the blob:', 150)\n",
      "('Radius of the blob:', 152)\n",
      "('Radius of the blob:', 153)\n",
      "('Radius of the blob:', 156)\n",
      "('Radius of the blob:', 76)\n",
      "('Radius of the blob:', 59)\n",
      "('Radius of the blob:', 59)\n",
      "('Radius of the blob:', 59)\n",
      "('Radius of the blob:', 59)\n",
      "('Radius of the blob:', 59)\n",
      "('Radius of the blob:', 59)\n",
      "('Radius of the blob:', 60)\n",
      "('Radius of the blob:', 60)\n",
      "('Radius of the blob:', 61)\n",
      "('Radius of the blob:', 59)\n",
      "('Radius of the blob:', 60)\n",
      "('Radius of the blob:', 56)\n",
      "('Radius of the blob:', 42)\n",
      "('Radius of the blob:', 41)\n",
      "('Radius of the blob:', 41)\n",
      "('Radius of the blob:', 41)\n",
      "('Radius of the blob:', 41)\n",
      "('Radius of the blob:', 41)\n",
      "('Radius of the blob:', 41)\n",
      "('Radius of the blob:', 41)\n",
      "('Radius of the blob:', 42)\n",
      "('Radius of the blob:', 41)\n",
      "('Radius of the blob:', 82)\n",
      "('Radius of the blob:', 80)\n",
      "('Radius of the blob:', 85)\n",
      "('Radius of the blob:', 83)\n",
      "('Radius of the blob:', 85)\n",
      "('Radius of the blob:', 80)\n",
      "('Radius of the blob:', 82)\n",
      "('Radius of the blob:', 82)\n",
      "('Radius of the blob:', 82)\n",
      "('Radius of the blob:', 79)\n",
      "('Radius of the blob:', 79)\n",
      "('Radius of the blob:', 78)\n",
      "('Radius of the blob:', 81)\n",
      "('Radius of the blob:', 80)\n",
      "('Radius of the blob:', 81)\n",
      "('Radius of the blob:', 80)\n",
      "('Radius of the blob:', 82)\n",
      "('Radius of the blob:', 81)\n",
      "('Radius of the blob:', 81)\n",
      "('Radius of the blob:', 80)\n",
      "('Radius of the blob:', 75)\n",
      "('Radius of the blob:', 78)\n",
      "('Radius of the blob:', 80)\n",
      "('Radius of the blob:', 79)\n",
      "('Radius of the blob:', 85)\n",
      "('Radius of the blob:', 86)\n",
      "('Radius of the blob:', 96)\n",
      "('Radius of the blob:', 92)\n",
      "('Radius of the blob:', 79)\n",
      "('Radius of the blob:', 19)\n",
      "('Radius of the blob:', 53)\n"
     ]
    }
   ],
   "source": [
    "tts = ALProxy(\"ALVideoDevice\", NAO_IP, NAO_PORT)\n",
    "camera_index = 0\n",
    "resolution = 3\n",
    "colourspace = 11\n",
    "FPS = 5\n",
    "\n",
    "subscriberID = tts.subscribeCamera(\"subscriberID\", camera_index, resolution,colourspace, FPS)\n",
    "print(\"id : \" , subscriberID)\n",
    "tts.openCamera(camera_index)\n",
    "tts.startCamera(camera_index)\n",
    "\n",
    "\n",
    "while True:\n",
    "\n",
    "  nao_image = tts.getImageRemote(str(subscriberID))\n",
    "\n",
    "  img = (np.reshape(np.frombuffer(nao_image[6], dtype = '%iuint8' % nao_image[2]), (nao_image[1], nao_image[0], nao_image[2])))\n",
    "  img = np.array(img)\n",
    "  #img = np.flipud(img)\n",
    "  cv2.imwrite(\"img.jpg\" , img)\n",
    "\n",
    "  img = cv2.cvtColor(img,cv2.COLOR_RGB2BGR) \n",
    "\n",
    "  # print( (nao_image[1], nao_image[0], nao_image[2]) , time.time())\n",
    "\n",
    "  img = detect(img)\n",
    "\n",
    "  cv2.imshow(\"Output\", img)\n",
    "\n",
    "  k = cv2.waitKey(33)\n",
    "  if k==27:    # Esc key to stop\n",
    "    break\n",
    "  \n",
    "tts.releaseImage(subscriberID)\n",
    "tts.unsubscribe(subscriberID)\n",
    "\n",
    "cv2.destroyAllWindows()"
   ]
  },
  {
   "cell_type": "code",
   "execution_count": 97,
   "metadata": {},
   "outputs": [],
   "source": [
    "['LShoulderPitch' , 'LShoulderRoll', 'LElbowYaw', 'LElbowRoll', 'LWristYaw2']"
   ]
  },
  {
   "cell_type": "code",
   "execution_count": 123,
   "metadata": {},
   "outputs": [],
   "source": [
    "motion_service = ALProxy(\"ALMotion\" , NAO_IP, NAO_PORT)\n",
    "\n",
    "motion_service.setStiffnesses(\"RArm\", 1.0)\n",
    "\n",
    "names = \"RElbowRoll\"\n",
    "angles = -1.5\n",
    "fractionMaxSpeed = 0.5 \n",
    "\n",
    "# motion_service.setAngles(names, angles, fractionMaxSpeed)\n",
    "\n",
    "# time.sleep(5)\n",
    "\n",
    "# motion_service.setStiffnesses(\"RElbowRoll\", 0.0)"
   ]
  },
  {
   "cell_type": "code",
   "execution_count": 117,
   "metadata": {},
   "outputs": [],
   "source": [
    "motion_service = ALProxy(\"ALMotion\" , NAO_IP, NAO_PORT)\n",
    "target_angles = [0.0, 0.0, 0.0, -1.2] \n",
    "max_speed_fraction = 0.2 \n",
    "\n",
    "motion_service.setStiffnesses(\"RArm\", 1.0)\n",
    "\n",
    "motion_service.setAngles( [\"RShoulderPitch\", \"RShoulderRoll\", \"RElbowYaw\", \"RElbowRoll\"], target_angles, max_speed_fraction)"
   ]
  },
  {
   "cell_type": "code",
   "execution_count": 112,
   "metadata": {},
   "outputs": [],
   "source": [
    "motion_service.closeHand('RHand')"
   ]
  },
  {
   "cell_type": "code",
   "execution_count": 128,
   "metadata": {},
   "outputs": [],
   "source": [
    "motion_service = ALProxy(\"ALMotion\" , NAO_IP, NAO_PORT)\n",
    "\n",
    "motion_service.setStiffnesses(\"Head\", 1.0)\n",
    "\n",
    "# Simple command for the HeadYaw joint at 10% max speed\n",
    "names            = \"HeadYaw\"\n",
    "angles           = -0.5\n",
    "fractionMaxSpeed = 0.1\n",
    "motion_service.setAngles(names,angles,fractionMaxSpeed)\n"
   ]
  },
  {
   "cell_type": "code",
   "execution_count": 51,
   "metadata": {},
   "outputs": [],
   "source": [
    "cv2.destroyAllWindows()"
   ]
  },
  {
   "cell_type": "code",
   "execution_count": 82,
   "metadata": {},
   "outputs": [
    {
     "data": {
      "text/plain": [
       "<matplotlib.image.AxesImage at 0x7fe6484e4810>"
      ]
     },
     "execution_count": 82,
     "metadata": {},
     "output_type": "execute_result"
    },
    {
     "data": {
      "image/png": "[encoded data removed]",
      "text/plain": [
       "<Figure size 432x288 with 1 Axes>"
      ]
     },
     "metadata": {
      "needs_background": "light"
     },
     "output_type": "display_data"
    }
   ],
   "source": [
    "frame = cv2.imread(\"img.jpg\")\n",
    "\n",
    "lower_red = np.array([0, 0, 90])\n",
    "upper_red = np.array([120, 60, 255])\n",
    "\n",
    "# Create a mask to isolate the red color region in the RGB image\n",
    "mask = cv2.inRange(frame, lower_red, upper_red)\n",
    "kernel = np.ones((3, 3), np.float32) / 9\n",
    "\n",
    "mask = cv2.erode(mask, kernel, iterations=3)\n",
    "# plt.imshow(mask)"
   ]
  },
  {
   "cell_type": "code",
   "execution_count": 53,
   "metadata": {},
   "outputs": [
    {
     "name": "stdout",
     "output_type": "stream",
     "text": [
      "No blob found.\n"
     ]
    }
   ],
   "source": [
    "# Find contours in the image\n",
    "contours, _ = cv2.findContours(mask, cv2.RETR_EXTERNAL, cv2.CHAIN_APPROX_SIMPLE)\n",
    "\n",
    "# If contours are found\n",
    "if contours:\n",
    "   # Get the largest contour (assuming it's the blob)\n",
    "    largest_contour = max(contours, key=cv2.contourArea)\n",
    "    \n",
    "    # Find the minimum enclosing circle for the contour\n",
    "    (x, y), radius = cv2.minEnclosingCircle(largest_contour)\n",
    "    \n",
    "    # Convert the coordinates to integers\n",
    "    center = (int(x), int(y))\n",
    "    radius = int(radius)\n",
    "    \n",
    "    # Draw the minimum enclosing circle on a color image\n",
    "    image_with_circle = cv2.cvtColor(mask, cv2.COLOR_GRAY2BGR)  # Convert to color image\n",
    "    cv2.circle(image_with_circle, center, radius, (0, 0, 255), 2)  # Draw red circle\n",
    "    \n",
    "    print(\"Radius of the blob:\", radius)\n",
    "else:\n",
    "    print(\"No blob found.\")"
   ]
  },
  {
   "cell_type": "code",
   "execution_count": 54,
   "metadata": {},
   "outputs": [
    {
     "ename": "NameError",
     "evalue": "name 'image_with_circle' is not defined",
     "output_type": "error",
     "traceback": [
      "\u001b[0;31m\u001b[0m",
      "\u001b[0;31mNameError\u001b[0mTraceback (most recent call last)",
      "\u001b[0;32m<ipython-input-54-4e63d0bc04e5>\u001b[0m in \u001b[0;36m<module>\u001b[0;34m()\u001b[0m\n\u001b[0;32m----> 1\u001b[0;31m \u001b[0mplt\u001b[0m\u001b[0;34m.\u001b[0m\u001b[0mimshow\u001b[0m\u001b[0;34m(\u001b[0m\u001b[0mimage_with_circle\u001b[0m\u001b[0;34m)\u001b[0m\u001b[0;34m\u001b[0m\u001b[0m\n\u001b[0m",
      "\u001b[0;31mNameError\u001b[0m: name 'image_with_circle' is not defined"
     ]
    }
   ],
   "source": [
    "plt.imshow(image_with_circle)"
   ]
  },
  {
   "cell_type": "code",
   "execution_count": null,
   "metadata": {},
   "outputs": [
    {
     "data": {
      "text/plain": [
       "<matplotlib.image.AxesImage at 0x7fe59dd6f050>"
      ]
     },
     "execution_count": 15,
     "metadata": {},
     "output_type": "execute_result"
    },
    {
     "data": {
      "image/png": "[encoded data removed]",
      "text/plain": [
       "<Figure size 432x288 with 1 Axes>"
      ]
     },
     "metadata": {
      "needs_background": "light"
     },
     "output_type": "display_data"
    }
   ],
   "source": [
    "lower_red = np.array([0, 0, 100])\n",
    "upper_red = np.array([120, 200, 255])\n",
    "\n",
    "# Create a mask to isolate the red color region in the RGB image\n",
    "mask = cv2.inRange(frame, lower_red, upper_red)\n",
    "plt.imshow(mask)"
   ]
  },
  {
   "cell_type": "code",
   "execution_count": null,
   "metadata": {},
   "outputs": [
    {
     "ename": "NameError",
     "evalue": "name 'red_Low' is not defined",
     "output_type": "error",
     "traceback": [
      "\u001b[0;31m\u001b[0m",
      "\u001b[0;31mNameError\u001b[0mTraceback (most recent call last)",
      "\u001b[0;32m<ipython-input-16-421d902b93ed>\u001b[0m in \u001b[0;36m<module>\u001b[0;34m()\u001b[0m\n\u001b[1;32m      1\u001b[0m \u001b[0mhsv\u001b[0m \u001b[0;34m=\u001b[0m \u001b[0mcv2\u001b[0m\u001b[0;34m.\u001b[0m\u001b[0mcvtColor\u001b[0m\u001b[0;34m(\u001b[0m\u001b[0mframe\u001b[0m\u001b[0;34m,\u001b[0m \u001b[0mcv2\u001b[0m\u001b[0;34m.\u001b[0m\u001b[0mCOLOR_BGR2HSV\u001b[0m\u001b[0;34m)\u001b[0m\u001b[0;34m\u001b[0m\u001b[0m\n\u001b[0;32m----> 2\u001b[0;31m \u001b[0mmask\u001b[0m \u001b[0;34m=\u001b[0m \u001b[0mcv2\u001b[0m\u001b[0;34m.\u001b[0m\u001b[0minRange\u001b[0m\u001b[0;34m(\u001b[0m\u001b[0mhsv\u001b[0m\u001b[0;34m,\u001b[0m \u001b[0mred_Low\u001b[0m\u001b[0;34m,\u001b[0m \u001b[0mred_Up\u001b[0m\u001b[0;34m)\u001b[0m\u001b[0;34m\u001b[0m\u001b[0m\n\u001b[0m\u001b[1;32m      3\u001b[0m \u001b[0mplt\u001b[0m\u001b[0;34m.\u001b[0m\u001b[0mimshow\u001b[0m\u001b[0;34m(\u001b[0m\u001b[0mmask\u001b[0m\u001b[0;34m)\u001b[0m\u001b[0;34m\u001b[0m\u001b[0m\n",
      "\u001b[0;31mNameError\u001b[0m: name 'red_Low' is not defined"
     ]
    }
   ],
   "source": [
    "hsv = cv2.cvtColor(frame, cv2.COLOR_BGR2HSV)\n",
    "mask = cv2.inRange(hsv, red_Low, red_Up)\n",
    "plt.imshow(mask)"
   ]
  },
  {
   "cell_type": "code",
   "execution_count": null,
   "metadata": {},
   "outputs": [
    {
     "data": {
      "text/plain": [
       "True"
      ]
     },
     "execution_count": 62,
     "metadata": {},
     "output_type": "execute_result"
    }
   ],
   "source": [
    "\n",
    "\n",
    "mask = cv2.erode(mask, None, iterations=2)\n",
    "mask = cv2.dilate(mask, None, iterations=2)\n",
    "cnts = cv2.findContours(mask.copy(), cv2.RETR_EXTERNAL, cv2.CHAIN_APPROX_SIMPLE)[-2]\n",
    "centre = None\n",
    "if len(cnts) > 0:\n",
    "    c = max(cnts, key = cv2.contourArea)\n",
    "    ((x, y), radius) = cv2.minEnclosingCircle(c)\n",
    "    M = cv2.moments(c)\n",
    "    centre = (int(M[\"m10\"]/M[\"m00\"]), int(M[\"m01\"]/M[\"m00\"]))\n",
    "    if radius > 10:\n",
    "        flag_red_ball = 1\n",
    "        cv2.circle(frame, (int(x), int(y)), int(radius), (0, 255, 255), 2)\n",
    "        cv2.circle(frame, centre, 3, (0, 0, 255), -1)\n",
    "cv2.imwrite('Frame.jpg', frame)"
   ]
  },
  {
   "cell_type": "code",
   "execution_count": null,
   "metadata": {},
   "outputs": [],
   "source": []
  }
 ],
 "metadata": {
  "kernelspec": {
   "display_name": "Python 3",
   "language": "python",
   "name": "python3"
  },
  "language_info": {
   "codemirror_mode": {
    "name": "ipython",
    "version": 2
   },
   "file_extension": ".py",
   "mimetype": "text/x-python",
   "name": "python",
   "nbconvert_exporter": "python",
   "pygments_lexer": "ipython2",
   "version": "2.7.17"
  },
  "orig_nbformat": 4
 },
 "nbformat": 4,
 "nbformat_minor": 2
}
