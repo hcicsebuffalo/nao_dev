{
 "cells": [
  {
   "cell_type": "code",
   "execution_count": 40,
   "metadata": {},
   "outputs": [],
   "source": [
    "import os\n",
    "import sys\n",
    "import time\n",
    "from naoqi import ALProxy\n",
    "import numpy as np\n",
    "import cv2\n",
    "import time\n",
    "from datetime import datetime\n",
    "import os\n",
    "# import pika #1.1.0\n",
    "import base64\n",
    "import time \n",
    "import yaml\n",
    "import cv2\n",
    "import requests\n",
    "import json\n",
    "import numpy as np\n",
    "import matplotlib.pyplot as plt"
   ]
  },
  {
   "cell_type": "code",
   "execution_count": 41,
   "metadata": {},
   "outputs": [],
   "source": [
    "NAO_IP = \"10.0.255.8\"\n",
    "NAO_PORT = 9559\n",
    "PEPPER_IP = \"10.0.255.8\"\n",
    "# PEPPER_PORT = 9503\n",
    "PEPPER_PORT = 9559\n",
    "width = 1280\n",
    "height = 960\n",
    "channel = 3\n",
    " \n",
    "fps = 30\n",
    "sec = 5"
   ]
  },
  {
   "cell_type": "code",
   "execution_count": 42,
   "metadata": {},
   "outputs": [],
   "source": [
    "def contours(image):\n",
    "  # Convert the image to the HSV color space\n",
    "  hsv = cv2.cvtColor(image, cv2.COLOR_BGR2HSV)\n",
    "\n",
    "  # Define the lower and upper range of red color in HSV\n",
    "  lower_red = np.array([0, 100, 100])\n",
    "  upper_red = np.array([10, 255, 255])\n",
    "\n",
    "  # Create a mask to isolate the red regions\n",
    "  mask = cv2.inRange(hsv, lower_red, upper_red)\n",
    "\n",
    "  # Find the contours of the red regions\n",
    "  contours, _ = cv2.findContours(mask, cv2.RETR_EXTERNAL, cv2.CHAIN_APPROX_SIMPLE)\n",
    "\n",
    "  # Create a black image to use as a canvas\n",
    "  red_areas = np.zeros_like(image)\n",
    "\n",
    "  # Loop through the detected red regions and draw them on the canvas\n",
    "  for contour in contours:\n",
    "      x, y, w, h = cv2.boundingRect(contour)\n",
    "      red_areas[y:y+h, x:x+w] = image[y:y+h, x:x+w]\n",
    "\n",
    "\n",
    "  return red_areas"
   ]
  },
  {
   "cell_type": "code",
   "execution_count": null,
   "metadata": {},
   "outputs": [],
   "source": [
    "def circle_detect(image):\n",
    "\n",
    "  # Convert the image to the HSV color space\n",
    "  hsv = cv2.cvtColor(image, cv2.COLOR_BGR2HSV)\n",
    "\n",
    "  # Define the lower and upper range of red color in HSV\n",
    "  lower_red = np.array([0, 100, 100])\n",
    "  upper_red = np.array([10, 255, 255])\n",
    "\n",
    "  # Create a mask to isolate the red regions\n",
    "  mask = cv2.inRange(hsv, lower_red, upper_red)\n",
    "\n",
    "  # Apply Gaussian blur to reduce noise\n",
    "  blurred = cv2.GaussianBlur(mask, (9, 9), 2)\n",
    "\n",
    "  # Apply Hough Circle Transform\n",
    "  circles = cv2.HoughCircles(\n",
    "      blurred,\n",
    "      cv2.HOUGH_GRADIENT,\n",
    "      dp=1, minDist=20,\n",
    "      param1=50, param2=30, minRadius=30, maxRadius=100 #****************\n",
    "  )\n",
    "\n",
    "  # If circles are detected, draw them on the original image\n",
    "  if circles is not None:\n",
    "        circles = np.uint16(np.around(circles))\n",
    "        for circle in circles[0, :]:\n",
    "            center = (circle[0], circle[1])\n",
    "            radius = circle[2]\n",
    "          \n",
    "            # Draw the circle center\n",
    "            cv2.circle(image, center, 1, (0, 100, 100), 3)\n",
    "          \n",
    "            # Draw the circle outline\n",
    "            cv2.circle(image, center, radius, (255, 0, 255), 3)\n",
    "\n",
    "            # Calculate the diameter\n",
    "            diameter = 2 * radius\n",
    "\n",
    "            # Put the diameter text next to the circle\n",
    "            cv2.putText(image, str(diameter), (center[0] + radius, center[1]), cv2.FONT_HERSHEY_SIMPLEX, 0.5, (255, 0, 255), 2)\n",
    "  else:\n",
    "      print(\"No red circles detected.\")\n",
    "\n",
    "  return image"
   ]
  },
  {
   "cell_type": "code",
   "execution_count": null,
   "metadata": {},
   "outputs": [],
   "source": [
    "def crop_circle(image):\n",
    "  # Define the lower and upper range of the red color in RGB\n",
    "  lower_red = np.array([0, 0, 100])\n",
    "  upper_red = np.array([100, 100, 255])\n",
    "\n",
    "  # Create a mask to isolate the red color region in the RGB image\n",
    "  mask = cv2.inRange(image, lower_red, upper_red)\n",
    "\n",
    "  # Find contours in the mask\n",
    "  contours, _ = cv2.findContours(mask, cv2.RETR_EXTERNAL, cv2.CHAIN_APPROX_SIMPLE)\n",
    "\n",
    "  # Create a black image to use as a canvas\n",
    "  red_regions = np.zeros_like(image)\n",
    "\n",
    "  # Loop through the detected red color regions and crop them from the original image\n",
    "  for contour in contours:\n",
    "      x, y, w, h = cv2.boundingRect(contour)\n",
    "      red_regions[y:y+h, x:x+w] = image[y:y+h, x:x+w]\n",
    "  \n",
    "  return red_regions"
   ]
  },
  {
   "cell_type": "code",
   "execution_count": null,
   "metadata": {},
   "outputs": [],
   "source": [
    "def anl(frame):\n",
    "  frame = cv2.imread(\"img.jpg\")\n",
    "\n",
    "  lower_red = np.array([0, 0, 90])\n",
    "  upper_red = np.array([120, 60, 255])\n",
    "\n",
    "  # Create a mask to isolate the red color region in the RGB image\n",
    "  mask = cv2.inRange(frame, lower_red, upper_red)\n",
    "  kernel = np.ones((3, 3), np.float32) / 9\n",
    "\n",
    "  mask = cv2.erode(mask, kernel, iterations=3)\n",
    "\n",
    "  #   # Find contours in the image\n",
    "  # contours, _ = cv2.findContours(mask, cv2.RETR_EXTERNAL, cv2.CHAIN_APPROX_SIMPLE)\n",
    "\n",
    "  # # If contours are found\n",
    "  # if contours:\n",
    "  #     # Get the largest contour (assuming it's the blob)\n",
    "  #     largest_contour = max(contours, key=cv2.contourArea)\n",
    "      \n",
    "  #     # Calculate the radius from the area of the contour (A = pi * r^2)\n",
    "  #     area = cv2.contourArea(largest_contour)\n",
    "  #     radius = np.sqrt(area / np.pi)\n",
    "\n",
    "  #     image_with_circle = cv2.cvtColor(mask, cv2.COLOR_GRAY2BGR)  # Convert to color image\n",
    "  #     cv2.circle(image_with_circle, (150, 150), int(radius) , (0, 0, 255), 2)  # Draw red circle\n",
    "      \n",
    "  #     print(\"Radius of the blob:\", radius)\n",
    "  # else:\n",
    "  #     print(\"No blob found.\")\n",
    "\n",
    "\n",
    "\n",
    "  contours, _ = cv2.findContours(mask, cv2.RETR_EXTERNAL, cv2.CHAIN_APPROX_SIMPLE)\n",
    "\n",
    "  # If contours are found\n",
    "  if contours:\n",
    "    # Get the largest contour (assuming it's the blob)\n",
    "      largest_contour = max(contours, key=cv2.contourArea)\n",
    "      \n",
    "      # Find the minimum enclosing circle for the contour\n",
    "      (x, y), radius = cv2.minEnclosingCircle(largest_contour)\n",
    "      \n",
    "      # Convert the coordinates to integers\n",
    "      center = (int(x), int(y))\n",
    "      radius = int(radius)\n",
    "      \n",
    "      # Draw the minimum enclosing circle on a color image\n",
    "      image_with_circle = cv2.cvtColor(mask, cv2.COLOR_GRAY2BGR)  # Convert to color image\n",
    "      cv2.circle(image_with_circle, center, radius, (0, 0, 255), 2)  # Draw red circle\n",
    "      \n",
    "      print(\"Radius of the blob:\", radius)\n",
    "  else:\n",
    "      print(\"No blob found.\")\n",
    "\n",
    "      \n",
    "  return image_with_circle"
   ]
  },
  {
   "cell_type": "code",
   "execution_count": null,
   "metadata": {},
   "outputs": [],
   "source": [
    "def draw(img):\n",
    "\n",
    "    # Apply Hough Circle Transform\n",
    "    circles = cv2.HoughCircles(\n",
    "        img,\n",
    "        cv2.HOUGH_GRADIENT,\n",
    "        dp=1, minDist=20,\n",
    "        param1=50, param2=30, minRadius=10, maxRadius=500 #****************\n",
    "    )\n",
    "\n",
    "    # If circles are detected, draw them on the original image\n",
    "    if circles is not None:\n",
    "        circles = np.uint16(np.around(circles))\n",
    "        for circle in circles[0, :]:\n",
    "            center = (circle[0], circle[1])\n",
    "            radius = circle[2]\n",
    "            \n",
    "            # Draw the circle center\n",
    "            cv2.circle(image, center, 1, (0, 100, 100), 3)\n",
    "            \n",
    "            # Draw the circle outline\n",
    "            cv2.circle(image, center, radius, (255, 0, 255), 3)\n",
    "\n",
    "            # Calculate the diameter\n",
    "            diameter = 2 * radius\n",
    "\n",
    "            # Put the diameter text next to the circle\n",
    "            cv2.putText(image, str(diameter), (center[0] + radius, center[1]), cv2.FONT_HERSHEY_SIMPLEX, 0.5, (255, 0, 255), 2)\n",
    "    else:\n",
    "        print(\"No red circles detected.\")\n",
    "\n",
    "    return img"
   ]
  },
  {
   "cell_type": "markdown",
   "metadata": {},
   "source": [
    "Define video parameters"
   ]
  },
  {
   "cell_type": "code",
   "execution_count": 43,
   "metadata": {},
   "outputs": [
    {
     "data": {
      "text/plain": [
       "True"
      ]
     },
     "execution_count": 43,
     "metadata": {},
     "output_type": "execute_result"
    }
   ],
   "source": [
    "tts = ALProxy(\"ALVideoDevice\", PEPPER_IP, PEPPER_PORT)\n",
    "camera_index = 3\n",
    "resolution = 3\n",
    "colourspace = 11\n",
    "FPS = 5\n",
    "\n",
    "subscriberID = tts.subscribeCamera(\"subscriberID\", camera_index, resolution,colourspace, FPS)\n",
    "# subscriberID = \"subscribeid_1\"\n",
    "tts.openCamera(camera_index)\n",
    "tts.startCamera(camera_index)"
   ]
  },
  {
   "cell_type": "code",
   "execution_count": null,
   "metadata": {},
   "outputs": [],
   "source": [
    "while True:\n",
    "\n",
    "  nao_image = tts.getImageRemote(str(subscriberID))\n",
    "\n",
    "  img = (np.reshape(np.frombuffer(nao_image[6], dtype = '%iuint8' % nao_image[2]), (nao_image[1], nao_image[0], nao_image[2])))\n",
    "  img = np.array(img)\n",
    "  #img = np.flipud(img)\n",
    "\n",
    "  img = cv2.cvtColor(img,cv2.COLOR_RGB2BGR) \n",
    "  # # convert the BGR mage to grayscale\n",
    "  # img = cv2.cvtColor(img, cv2.COLOR_BGR2GRAY)\n",
    "  print( (nao_image[1], nao_image[0], nao_image[2]) , time.time())\n",
    "  cv2.imwrite(\"img.jpg\" , img)\n",
    "  #img = circle_detect(img)\n",
    "  # # red_img = contours(img)\n",
    "  # red_img = crop_circle(img)\n",
    "  img = anl(img)\n",
    "  #img = draw(img)\n",
    "  cv2.imshow(\"Input\", img)\n",
    "\n",
    "  k = cv2.waitKey(33)\n",
    "  if k==27:    # Esc key to stop\n",
    "    break\n",
    "  \n",
    "tts.releaseImage(subscriberID)\n",
    "tts.unsubscribe(subscriberID)\n",
    "\n",
    "cv2.destroyAllWindows()"
   ]
  },
  {
   "cell_type": "code",
   "execution_count": null,
   "metadata": {},
   "outputs": [],
   "source": [
    "cv2.destroyAllWindows()"
   ]
  },
  {
   "cell_type": "code",
   "execution_count": null,
   "metadata": {},
   "outputs": [],
   "source": [
    "frame = cv2.imread(\"img.jpg\")\n",
    "\n",
    "lower_red = np.array([0, 0, 90])\n",
    "upper_red = np.array([120, 60, 255])\n",
    "\n",
    "# Create a mask to isolate the red color region in the RGB image\n",
    "mask = cv2.inRange(frame, lower_red, upper_red)\n",
    "kernel = np.ones((3, 3), np.float32) / 9\n",
    "\n",
    "mask = cv2.erode(mask, kernel, iterations=3)\n",
    "plt.imshow(mask)"
   ]
  },
  {
   "cell_type": "code",
   "execution_count": null,
   "metadata": {},
   "outputs": [],
   "source": [
    "# Find contours in the image\n",
    "contours, _ = cv2.findContours(mask, cv2.RETR_EXTERNAL, cv2.CHAIN_APPROX_SIMPLE)\n",
    "\n",
    "# If contours are found\n",
    "if contours:\n",
    "   # Get the largest contour (assuming it's the blob)\n",
    "    largest_contour = max(contours, key=cv2.contourArea)\n",
    "    \n",
    "    # Find the minimum enclosing circle for the contour\n",
    "    (x, y), radius = cv2.minEnclosingCircle(largest_contour)\n",
    "    \n",
    "    # Convert the coordinates to integers\n",
    "    center = (int(x), int(y))\n",
    "    radius = int(radius)\n",
    "    \n",
    "    # Draw the minimum enclosing circle on a color image\n",
    "    image_with_circle = cv2.cvtColor(mask, cv2.COLOR_GRAY2BGR)  # Convert to color image\n",
    "    cv2.circle(image_with_circle, center, radius, (0, 0, 255), 2)  # Draw red circle\n",
    "    \n",
    "    print(\"Radius of the blob:\", radius)\n",
    "else:\n",
    "    print(\"No blob found.\")"
   ]
  },
  {
   "cell_type": "code",
   "execution_count": null,
   "metadata": {},
   "outputs": [],
   "source": [
    "plt.imshow(image_with_circle)"
   ]
  },
  {
   "cell_type": "code",
   "execution_count": null,
   "metadata": {},
   "outputs": [],
   "source": [
    "lower_red = np.array([0, 0, 100])\n",
    "upper_red = np.array([120, 200, 255])\n",
    "\n",
    "# Create a mask to isolate the red color region in the RGB image\n",
    "mask = cv2.inRange(frame, lower_red, upper_red)\n",
    "plt.imshow(mask)"
   ]
  },
  {
   "cell_type": "code",
   "execution_count": null,
   "metadata": {},
   "outputs": [],
   "source": [
    "hsv = cv2.cvtColor(frame, cv2.COLOR_BGR2HSV)\n",
    "mask = cv2.inRange(hsv, red_Low, red_Up)\n",
    "plt.imshow(mask)"
   ]
  },
  {
   "cell_type": "code",
   "execution_count": null,
   "metadata": {},
   "outputs": [],
   "source": [
    "mask = cv2.erode(mask, None, iterations=2)\n",
    "mask = cv2.dilate(mask, None, iterations=2)\n",
    "cnts = cv2.findContours(mask.copy(), cv2.RETR_EXTERNAL, cv2.CHAIN_APPROX_SIMPLE)[-2]\n",
    "centre = None\n",
    "if len(cnts) > 0:\n",
    "    c = max(cnts, key = cv2.contourArea)\n",
    "    ((x, y), radius) = cv2.minEnclosingCircle(c)\n",
    "    M = cv2.moments(c)\n",
    "    centre = (int(M[\"m10\"]/M[\"m00\"]), int(M[\"m01\"]/M[\"m00\"]))\n",
    "    if radius > 10:\n",
    "        flag_red_ball = 1\n",
    "        cv2.circle(frame, (int(x), int(y)), int(radius), (0, 255, 255), 2)\n",
    "        cv2.circle(frame, centre, 3, (0, 0, 255), -1)\n",
    "cv2.imwrite('Frame.jpg', frame)"
   ]
  },
  {
   "cell_type": "markdown",
   "metadata": {},
   "source": [
    "Create the paired dataset (using top RGB camera)"
   ]
  },
  {
   "cell_type": "markdown",
   "metadata": {},
   "source": [
    "Capture the bright image"
   ]
  },
  {
   "cell_type": "code",
   "execution_count": null,
   "metadata": {},
   "outputs": [],
   "source": [
    "nao_image = tts.getImageRemote(str(subscriberID))\n",
    "img = (np.reshape(np.frombuffer(nao_image[6], dtype = '%iuint8' % nao_image[2]), (nao_image[1], nao_image[0], nao_image[2])))\n",
    "img = np.array(img)\n",
    "img = np.flipud(img)\n",
    "img = cv2.cvtColor(img,cv2.COLOR_RGB2BGR) \n",
    "print( (nao_image[1], nao_image[0], nao_image[2]) , time.time())\n",
    "cv2.imwrite(\"dataset/img11_normal.jpg\" , img) "
   ]
  },
  {
   "cell_type": "markdown",
   "metadata": {},
   "source": [
    "Capture the low image"
   ]
  },
  {
   "cell_type": "code",
   "execution_count": null,
   "metadata": {},
   "outputs": [],
   "source": [
    "nao_image = tts.getImageRemote(str(subscriberID))\n",
    "img = (np.reshape(np.frombuffer(nao_image[6], dtype = '%iuint8' % nao_image[2]), (nao_image[1], nao_image[0], nao_image[2])))\n",
    "img = np.array(img)\n",
    "img = np.flipud(img)\n",
    "img = cv2.cvtColor(img,cv2.COLOR_RGB2BGR) \n",
    "print( (nao_image[1], nao_image[0], nao_image[2]) , time.time())\n",
    "cv2.imwrite(\"dataset/img11_low.jpg\" , img) "
   ]
  },
  {
   "cell_type": "markdown",
   "metadata": {},
   "source": [
    "Get image from the stereo camera"
   ]
  },
  {
   "cell_type": "code",
   "execution_count": 44,
   "metadata": {},
   "outputs": [],
   "source": [
    "nao_image = tts.getImageRemote(str(subscriberID))\n",
    "img = (np.reshape(np.frombuffer(nao_image[6], dtype = '%iuint8' % nao_image[2]), (nao_image[1], nao_image[0], nao_image[2])))\n",
    "img = np.array(img)\n",
    "img = cv2.cvtColor(img,cv2.COLOR_RGB2BGR) \n",
    "# cv2.imwrite(\"stereo_calibrate_2.jpg\" , img)"
   ]
  },
  {
   "cell_type": "markdown",
   "metadata": {},
   "source": [
    "divide the image into halfs"
   ]
  },
  {
   "cell_type": "code",
   "execution_count": 45,
   "metadata": {},
   "outputs": [],
   "source": [
    "height, width, channels = img.shape\n",
    "half_width = width // 2 # integer division\n",
    "left_section = img[:, :half_width] # get the left half of the image\n",
    "right_section = img[:, half_width:] # get the right half of the image"
   ]
  },
  {
   "cell_type": "code",
   "execution_count": 46,
   "metadata": {},
   "outputs": [
    {
     "data": {
      "text/plain": [
       "False"
      ]
     },
     "execution_count": 46,
     "metadata": {},
     "output_type": "execute_result"
    }
   ],
   "source": [
    "cv2.imwrite(\"../camera_calibrate/left_calibration_images/left_6.jpg\" , left_section)\n",
    "cv2.imwrite(\"../camera_calibrate/right_calibration_images/right_6.jpg\" , right_section)"
   ]
  },
  {
   "cell_type": "markdown",
   "metadata": {},
   "source": [
    "Close the connection from the pepper robot "
   ]
  },
  {
   "cell_type": "code",
   "execution_count": null,
   "metadata": {},
   "outputs": [],
   "source": [
    "tts.releaseImage(subscriberID)\n",
    "tts.unsubscribe(subscriberID)"
   ]
  }
 ],
 "metadata": {
  "kernelspec": {
   "display_name": "Python 3",
   "language": "python",
   "name": "python3"
  },
  "language_info": {
   "codemirror_mode": {
    "name": "ipython",
    "version": 2
   },
   "file_extension": ".py",
   "mimetype": "text/x-python",
   "name": "python",
   "nbconvert_exporter": "python",
   "pygments_lexer": "ipython2",
   "version": "2.7.17"
  },
  "orig_nbformat": 4
 },
 "nbformat": 4,
 "nbformat_minor": 2
}
