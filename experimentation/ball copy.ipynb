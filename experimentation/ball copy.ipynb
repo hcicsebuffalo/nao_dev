{
 "cells": [
  {
   "cell_type": "code",
   "execution_count": 1,
   "metadata": {},
   "outputs": [],
   "source": [
    "import os\n",
    "import sys\n",
    "import time\n",
    "from naoqi import ALProxy\n",
    "import numpy as np\n",
    "import cv2\n",
    "import time\n",
    "from datetime import datetime\n",
    "import os\n",
    "# import pika #1.1.0\n",
    "import base64\n",
    "import time \n",
    "import yaml\n",
    "import cv2\n",
    "import requests\n",
    "import json\n",
    "import numpy as np"
   ]
  },
  {
   "cell_type": "code",
   "execution_count": 2,
   "metadata": {},
   "outputs": [],
   "source": [
    "NAO_IP = \"10.0.255.8\"\n",
    "NAO_PORT = 9559\n",
    "PEPPER_IP = \"10.0.52.247\"\n",
    "PEPPER_PORT = 9503\n",
    "\n",
    "width = 1280\n",
    "height = 960\n",
    "channel = 3\n",
    " \n",
    "fps = 30\n",
    "sec = 5"
   ]
  },
  {
   "cell_type": "code",
   "execution_count": 3,
   "metadata": {},
   "outputs": [],
   "source": [
    "def contours(image):\n",
    "  # Convert the image to the HSV color space\n",
    "  hsv = cv2.cvtColor(image, cv2.COLOR_BGR2HSV)\n",
    "\n",
    "  # Define the lower and upper range of red color in HSV\n",
    "  lower_red = np.array([0, 100, 100])\n",
    "  upper_red = np.array([10, 255, 255])\n",
    "\n",
    "  # Create a mask to isolate the red regions\n",
    "  mask = cv2.inRange(hsv, lower_red, upper_red)\n",
    "\n",
    "  # Find the contours of the red regions\n",
    "  contours, _ = cv2.findContours(mask, cv2.RETR_EXTERNAL, cv2.CHAIN_APPROX_SIMPLE)\n",
    "\n",
    "  # Create a black image to use as a canvas\n",
    "  red_areas = np.zeros_like(image)\n",
    "\n",
    "  # Loop through the detected red regions and draw them on the canvas\n",
    "  for contour in contours:\n",
    "      x, y, w, h = cv2.boundingRect(contour)\n",
    "      red_areas[y:y+h, x:x+w] = image[y:y+h, x:x+w]\n",
    "\n",
    "\n",
    "  return red_areas"
   ]
  },
  {
   "cell_type": "code",
   "execution_count": 4,
   "metadata": {},
   "outputs": [],
   "source": [
    "def circle_detect(image):\n",
    "\n",
    "  # Convert the image to the HSV color space\n",
    "  hsv = cv2.cvtColor(image, cv2.COLOR_BGR2HSV)\n",
    "\n",
    "  # Define the lower and upper range of red color in HSV\n",
    "  lower_red = np.array([0, 100, 100])\n",
    "  upper_red = np.array([10, 255, 255])\n",
    "\n",
    "  # Create a mask to isolate the red regions\n",
    "  mask = cv2.inRange(hsv, lower_red, upper_red)\n",
    "\n",
    "  # Apply Gaussian blur to reduce noise\n",
    "  blurred = cv2.GaussianBlur(mask, (9, 9), 2)\n",
    "\n",
    "  # Apply Hough Circle Transform\n",
    "  circles = cv2.HoughCircles(\n",
    "      blurred,\n",
    "      cv2.HOUGH_GRADIENT,\n",
    "      dp=1, minDist=20,\n",
    "      param1=50, param2=30, minRadius=30, maxRadius=100 #****************\n",
    "  )\n",
    "\n",
    "  # If circles are detected, draw them on the original image\n",
    "  if circles is not None:\n",
    "        circles = np.uint16(np.around(circles))\n",
    "        for circle in circles[0, :]:\n",
    "            center = (circle[0], circle[1])\n",
    "            radius = circle[2]\n",
    "          \n",
    "            # Draw the circle center\n",
    "            cv2.circle(image, center, 1, (0, 100, 100), 3)\n",
    "          \n",
    "            # Draw the circle outline\n",
    "            cv2.circle(image, center, radius, (255, 0, 255), 3)\n",
    "\n",
    "            # Calculate the diameter\n",
    "            diameter = 2 * radius\n",
    "\n",
    "            # Put the diameter text next to the circle\n",
    "            cv2.putText(image, str(diameter), (center[0] + radius, center[1]), cv2.FONT_HERSHEY_SIMPLEX, 0.5, (255, 0, 255), 2)\n",
    "  else:\n",
    "      print(\"No red circles detected.\")\n",
    "\n",
    "  return image"
   ]
  },
  {
   "cell_type": "code",
   "execution_count": 5,
   "metadata": {},
   "outputs": [],
   "source": [
    "def crop_circle(image):\n",
    "  # Define the lower and upper range of the red color in RGB\n",
    "  lower_red = np.array([0, 0, 100])\n",
    "  upper_red = np.array([100, 100, 255])\n",
    "\n",
    "  # Create a mask to isolate the red color region in the RGB image\n",
    "  mask = cv2.inRange(image, lower_red, upper_red)\n",
    "\n",
    "  # Find contours in the mask\n",
    "  contours, _ = cv2.findContours(mask, cv2.RETR_EXTERNAL, cv2.CHAIN_APPROX_SIMPLE)\n",
    "\n",
    "  # Create a black image to use as a canvas\n",
    "  red_regions = np.zeros_like(image)\n",
    "\n",
    "  # Loop through the detected red color regions and crop them from the original image\n",
    "  for contour in contours:\n",
    "      x, y, w, h = cv2.boundingRect(contour)\n",
    "      red_regions[y:y+h, x:x+w] = image[y:y+h, x:x+w]\n",
    "  \n",
    "  return red_regions"
   ]
  },
  {
   "cell_type": "code",
   "execution_count": 6,
   "metadata": {},
   "outputs": [],
   "source": [
    "def anl(frame):\n",
    "  frame = cv2.imread(\"img.jpg\")\n",
    "\n",
    "  lower_red = np.array([0, 0, 90])\n",
    "  upper_red = np.array([120, 60, 255])\n",
    "\n",
    "  # Create a mask to isolate the red color region in the RGB image\n",
    "  mask = cv2.inRange(frame, lower_red, upper_red)\n",
    "  kernel = np.ones((3, 3), np.float32) / 9\n",
    "\n",
    "  mask = cv2.erode(mask, kernel, iterations=3)\n",
    "\n",
    "  #   # Find contours in the image\n",
    "  # contours, _ = cv2.findContours(mask, cv2.RETR_EXTERNAL, cv2.CHAIN_APPROX_SIMPLE)\n",
    "\n",
    "  # # If contours are found\n",
    "  # if contours:\n",
    "  #     # Get the largest contour (assuming it's the blob)\n",
    "  #     largest_contour = max(contours, key=cv2.contourArea)\n",
    "      \n",
    "  #     # Calculate the radius from the area of the contour (A = pi * r^2)\n",
    "  #     area = cv2.contourArea(largest_contour)\n",
    "  #     radius = np.sqrt(area / np.pi)\n",
    "\n",
    "  #     image_with_circle = cv2.cvtColor(mask, cv2.COLOR_GRAY2BGR)  # Convert to color image\n",
    "  #     cv2.circle(image_with_circle, (150, 150), int(radius) , (0, 0, 255), 2)  # Draw red circle\n",
    "      \n",
    "  #     print(\"Radius of the blob:\", radius)\n",
    "  # else:\n",
    "  #     print(\"No blob found.\")\n",
    "\n",
    "\n",
    "\n",
    "  contours, _ = cv2.findContours(mask, cv2.RETR_EXTERNAL, cv2.CHAIN_APPROX_SIMPLE)\n",
    "\n",
    "  # If contours are found\n",
    "  if contours:\n",
    "    # Get the largest contour (assuming it's the blob)\n",
    "      largest_contour = max(contours, key=cv2.contourArea)\n",
    "      \n",
    "      # Find the minimum enclosing circle for the contour\n",
    "      (x, y), radius = cv2.minEnclosingCircle(largest_contour)\n",
    "      \n",
    "      # Convert the coordinates to integers\n",
    "      center = (int(x), int(y))\n",
    "      radius = int(radius)\n",
    "      \n",
    "      # Draw the minimum enclosing circle on a color image\n",
    "      image_with_circle = cv2.cvtColor(mask, cv2.COLOR_GRAY2BGR)  # Convert to color image\n",
    "      cv2.circle(image_with_circle, center, radius, (0, 0, 255), 2)  # Draw red circle\n",
    "      \n",
    "      print(\"Radius of the blob:\", radius)\n",
    "  else:\n",
    "      print(\"No blob found.\")\n",
    "\n",
    "      \n",
    "  return image_with_circle"
   ]
  },
  {
   "cell_type": "code",
   "execution_count": 7,
   "metadata": {},
   "outputs": [],
   "source": [
    "def draw(img):\n",
    "\n",
    "    # Apply Hough Circle Transform\n",
    "    circles = cv2.HoughCircles(\n",
    "        img,\n",
    "        cv2.HOUGH_GRADIENT,\n",
    "        dp=1, minDist=20,\n",
    "        param1=50, param2=30, minRadius=10, maxRadius=500 #****************\n",
    "    )\n",
    "\n",
    "    # If circles are detected, draw them on the original image\n",
    "    if circles is not None:\n",
    "        circles = np.uint16(np.around(circles))\n",
    "        for circle in circles[0, :]:\n",
    "            center = (circle[0], circle[1])\n",
    "            radius = circle[2]\n",
    "            \n",
    "            # Draw the circle center\n",
    "            cv2.circle(image, center, 1, (0, 100, 100), 3)\n",
    "            \n",
    "            # Draw the circle outline\n",
    "            cv2.circle(image, center, radius, (255, 0, 255), 3)\n",
    "\n",
    "            # Calculate the diameter\n",
    "            diameter = 2 * radius\n",
    "\n",
    "            # Put the diameter text next to the circle\n",
    "            cv2.putText(image, str(diameter), (center[0] + radius, center[1]), cv2.FONT_HERSHEY_SIMPLEX, 0.5, (255, 0, 255), 2)\n",
    "    else:\n",
    "        print(\"No red circles detected.\")\n",
    "\n",
    "    return img"
   ]
  },
  {
   "cell_type": "code",
   "execution_count": 8,
   "metadata": {},
   "outputs": [
    {
     "data": {
      "text/plain": [
       "True"
      ]
     },
     "execution_count": 8,
     "metadata": {},
     "output_type": "execute_result"
    }
   ],
   "source": [
    "tts = ALProxy(\"ALVideoDevice\", NAO_IP, NAO_PORT)\n",
    "camera_index = 0\n",
    "resolution = 3\n",
    "colourspace = 11\n",
    "FPS = 5\n",
    "\n",
    "subscriberID = tts.subscribeCamera(\"subscriberID\", camera_index, resolution,colourspace, FPS)\n",
    "# subscriberID = \"subscribeid_1\"\n",
    "tts.openCamera(camera_index)\n",
    "tts.startCamera(camera_index)"
   ]
  },
  {
   "cell_type": "code",
   "execution_count": 9,
   "metadata": {},
   "outputs": [],
   "source": [
    "import matplotlib.pyplot as plt"
   ]
  },
  {
   "cell_type": "code",
   "execution_count": 10,
   "metadata": {},
   "outputs": [
    {
     "ename": "TypeError",
     "evalue": "'NoneType' object has no attribute '__getitem__'",
     "output_type": "error",
     "traceback": [
      "\u001b[0;31m\u001b[0m",
      "\u001b[0;31mTypeError\u001b[0mTraceback (most recent call last)",
      "\u001b[0;32m<ipython-input-10-334a0f8d17f4>\u001b[0m in \u001b[0;36m<module>\u001b[0;34m()\u001b[0m\n\u001b[1;32m      3\u001b[0m   \u001b[0mnao_image\u001b[0m \u001b[0;34m=\u001b[0m \u001b[0mtts\u001b[0m\u001b[0;34m.\u001b[0m\u001b[0mgetImageRemote\u001b[0m\u001b[0;34m(\u001b[0m\u001b[0mstr\u001b[0m\u001b[0;34m(\u001b[0m\u001b[0msubscriberID\u001b[0m\u001b[0;34m)\u001b[0m\u001b[0;34m)\u001b[0m\u001b[0;34m\u001b[0m\u001b[0m\n\u001b[1;32m      4\u001b[0m \u001b[0;34m\u001b[0m\u001b[0m\n\u001b[0;32m----> 5\u001b[0;31m   \u001b[0mimg\u001b[0m \u001b[0;34m=\u001b[0m \u001b[0;34m(\u001b[0m\u001b[0mnp\u001b[0m\u001b[0;34m.\u001b[0m\u001b[0mreshape\u001b[0m\u001b[0;34m(\u001b[0m\u001b[0mnp\u001b[0m\u001b[0;34m.\u001b[0m\u001b[0mfrombuffer\u001b[0m\u001b[0;34m(\u001b[0m\u001b[0mnao_image\u001b[0m\u001b[0;34m[\u001b[0m\u001b[0;36m6\u001b[0m\u001b[0;34m]\u001b[0m\u001b[0;34m,\u001b[0m \u001b[0mdtype\u001b[0m \u001b[0;34m=\u001b[0m \u001b[0;34m'%iuint8'\u001b[0m \u001b[0;34m%\u001b[0m \u001b[0mnao_image\u001b[0m\u001b[0;34m[\u001b[0m\u001b[0;36m2\u001b[0m\u001b[0;34m]\u001b[0m\u001b[0;34m)\u001b[0m\u001b[0;34m,\u001b[0m \u001b[0;34m(\u001b[0m\u001b[0mnao_image\u001b[0m\u001b[0;34m[\u001b[0m\u001b[0;36m1\u001b[0m\u001b[0;34m]\u001b[0m\u001b[0;34m,\u001b[0m \u001b[0mnao_image\u001b[0m\u001b[0;34m[\u001b[0m\u001b[0;36m0\u001b[0m\u001b[0;34m]\u001b[0m\u001b[0;34m,\u001b[0m \u001b[0mnao_image\u001b[0m\u001b[0;34m[\u001b[0m\u001b[0;36m2\u001b[0m\u001b[0;34m]\u001b[0m\u001b[0;34m)\u001b[0m\u001b[0;34m)\u001b[0m\u001b[0;34m)\u001b[0m\u001b[0;34m\u001b[0m\u001b[0m\n\u001b[0m\u001b[1;32m      6\u001b[0m   \u001b[0mimg\u001b[0m \u001b[0;34m=\u001b[0m \u001b[0mnp\u001b[0m\u001b[0;34m.\u001b[0m\u001b[0marray\u001b[0m\u001b[0;34m(\u001b[0m\u001b[0mimg\u001b[0m\u001b[0;34m)\u001b[0m\u001b[0;34m\u001b[0m\u001b[0m\n\u001b[1;32m      7\u001b[0m   \u001b[0;31m#img = np.flipud(img)\u001b[0m\u001b[0;34m\u001b[0m\u001b[0;34m\u001b[0m\u001b[0m\n",
      "\u001b[0;31mTypeError\u001b[0m: 'NoneType' object has no attribute '__getitem__'"
     ]
    }
   ],
   "source": [
    "while True:\n",
    "\n",
    "  nao_image = tts.getImageRemote(str(subscriberID))\n",
    "\n",
    "  img = (np.reshape(np.frombuffer(nao_image[6], dtype = '%iuint8' % nao_image[2]), (nao_image[1], nao_image[0], nao_image[2])))\n",
    "  img = np.array(img)\n",
    "  #img = np.flipud(img)\n",
    "\n",
    "  img = cv2.cvtColor(img,cv2.COLOR_RGB2BGR) \n",
    "  # # convert the BGR mage to grayscale\n",
    "  # img = cv2.cvtColor(img, cv2.COLOR_BGR2GRAY)\n",
    "  print( (nao_image[1], nao_image[0], nao_image[2]) , time.time())\n",
    "  cv2.imwrite(\"img.jpg\" , img)\n",
    "  #img = circle_detect(img)\n",
    "  # # red_img = contours(img)\n",
    "  # red_img = crop_circle(img)\n",
    "  img = anl(img)\n",
    "  #img = draw(img)\n",
    "  cv2.imshow(\"Input\", img)\n",
    "\n",
    "  k = cv2.waitKey(33)\n",
    "  if k==27:    # Esc key to stop\n",
    "    break\n",
    "  \n",
    "tts.releaseImage(subscriberID)\n",
    "tts.unsubscribe(subscriberID)\n",
    "\n",
    "cv2.destroyAllWindows()"
   ]
  },
  {
   "cell_type": "code",
   "execution_count": 11,
   "metadata": {},
   "outputs": [],
   "source": [
    "cv2.destroyAllWindows()"
   ]
  },
  {
   "cell_type": "code",
   "execution_count": 12,
   "metadata": {},
   "outputs": [
    {
     "data": {
      "text/plain": [
       "<matplotlib.image.AxesImage at 0x7fe59dd98150>"
      ]
     },
     "execution_count": 12,
     "metadata": {},
     "output_type": "execute_result"
    },
    {
     "data": {
      "image/png": "[encoded data removed]",
      "text/plain": [
       "<Figure size 432x288 with 1 Axes>"
      ]
     },
     "metadata": {
      "needs_background": "light"
     },
     "output_type": "display_data"
    }
   ],
   "source": [
    "frame = cv2.imread(\"img.jpg\")\n",
    "\n",
    "lower_red = np.array([0, 0, 90])\n",
    "upper_red = np.array([120, 60, 255])\n",
    "\n",
    "# Create a mask to isolate the red color region in the RGB image\n",
    "mask = cv2.inRange(frame, lower_red, upper_red)\n",
    "kernel = np.ones((3, 3), np.float32) / 9\n",
    "\n",
    "mask = cv2.erode(mask, kernel, iterations=3)\n",
    "plt.imshow(mask)"
   ]
  },
  {
   "cell_type": "code",
   "execution_count": 13,
   "metadata": {},
   "outputs": [
    {
     "name": "stdout",
     "output_type": "stream",
     "text": [
      "No blob found.\n"
     ]
    }
   ],
   "source": [
    "# Find contours in the image\n",
    "contours, _ = cv2.findContours(mask, cv2.RETR_EXTERNAL, cv2.CHAIN_APPROX_SIMPLE)\n",
    "\n",
    "# If contours are found\n",
    "if contours:\n",
    "   # Get the largest contour (assuming it's the blob)\n",
    "    largest_contour = max(contours, key=cv2.contourArea)\n",
    "    \n",
    "    # Find the minimum enclosing circle for the contour\n",
    "    (x, y), radius = cv2.minEnclosingCircle(largest_contour)\n",
    "    \n",
    "    # Convert the coordinates to integers\n",
    "    center = (int(x), int(y))\n",
    "    radius = int(radius)\n",
    "    \n",
    "    # Draw the minimum enclosing circle on a color image\n",
    "    image_with_circle = cv2.cvtColor(mask, cv2.COLOR_GRAY2BGR)  # Convert to color image\n",
    "    cv2.circle(image_with_circle, center, radius, (0, 0, 255), 2)  # Draw red circle\n",
    "    \n",
    "    print(\"Radius of the blob:\", radius)\n",
    "else:\n",
    "    print(\"No blob found.\")"
   ]
  },
  {
   "cell_type": "code",
   "execution_count": 14,
   "metadata": {},
   "outputs": [
    {
     "ename": "NameError",
     "evalue": "name 'image_with_circle' is not defined",
     "output_type": "error",
     "traceback": [
      "\u001b[0;31m\u001b[0m",
      "\u001b[0;31mNameError\u001b[0mTraceback (most recent call last)",
      "\u001b[0;32m<ipython-input-14-4e63d0bc04e5>\u001b[0m in \u001b[0;36m<module>\u001b[0;34m()\u001b[0m\n\u001b[0;32m----> 1\u001b[0;31m \u001b[0mplt\u001b[0m\u001b[0;34m.\u001b[0m\u001b[0mimshow\u001b[0m\u001b[0;34m(\u001b[0m\u001b[0mimage_with_circle\u001b[0m\u001b[0;34m)\u001b[0m\u001b[0;34m\u001b[0m\u001b[0m\n\u001b[0m",
      "\u001b[0;31mNameError\u001b[0m: name 'image_with_circle' is not defined"
     ]
    }
   ],
   "source": [
    "plt.imshow(image_with_circle)"
   ]
  },
  {
   "cell_type": "code",
   "execution_count": 15,
   "metadata": {},
   "outputs": [
    {
     "data": {
      "text/plain": [
       "<matplotlib.image.AxesImage at 0x7fe59dd6f050>"
      ]
     },
     "execution_count": 15,
     "metadata": {},
     "output_type": "execute_result"
    },
    {
     "data": {
      "image/png": "[encoded data removed]",
      "text/plain": [
       "<Figure size 432x288 with 1 Axes>"
      ]
     },
     "metadata": {
      "needs_background": "light"
     },
     "output_type": "display_data"
    }
   ],
   "source": [
    "lower_red = np.array([0, 0, 100])\n",
    "upper_red = np.array([120, 200, 255])\n",
    "\n",
    "# Create a mask to isolate the red color region in the RGB image\n",
    "mask = cv2.inRange(frame, lower_red, upper_red)\n",
    "plt.imshow(mask)"
   ]
  },
  {
   "cell_type": "code",
   "execution_count": 16,
   "metadata": {},
   "outputs": [
    {
     "ename": "NameError",
     "evalue": "name 'red_Low' is not defined",
     "output_type": "error",
     "traceback": [
      "\u001b[0;31m\u001b[0m",
      "\u001b[0;31mNameError\u001b[0mTraceback (most recent call last)",
      "\u001b[0;32m<ipython-input-16-421d902b93ed>\u001b[0m in \u001b[0;36m<module>\u001b[0;34m()\u001b[0m\n\u001b[1;32m      1\u001b[0m \u001b[0mhsv\u001b[0m \u001b[0;34m=\u001b[0m \u001b[0mcv2\u001b[0m\u001b[0;34m.\u001b[0m\u001b[0mcvtColor\u001b[0m\u001b[0;34m(\u001b[0m\u001b[0mframe\u001b[0m\u001b[0;34m,\u001b[0m \u001b[0mcv2\u001b[0m\u001b[0;34m.\u001b[0m\u001b[0mCOLOR_BGR2HSV\u001b[0m\u001b[0;34m)\u001b[0m\u001b[0;34m\u001b[0m\u001b[0m\n\u001b[0;32m----> 2\u001b[0;31m \u001b[0mmask\u001b[0m \u001b[0;34m=\u001b[0m \u001b[0mcv2\u001b[0m\u001b[0;34m.\u001b[0m\u001b[0minRange\u001b[0m\u001b[0;34m(\u001b[0m\u001b[0mhsv\u001b[0m\u001b[0;34m,\u001b[0m \u001b[0mred_Low\u001b[0m\u001b[0;34m,\u001b[0m \u001b[0mred_Up\u001b[0m\u001b[0;34m)\u001b[0m\u001b[0;34m\u001b[0m\u001b[0m\n\u001b[0m\u001b[1;32m      3\u001b[0m \u001b[0mplt\u001b[0m\u001b[0;34m.\u001b[0m\u001b[0mimshow\u001b[0m\u001b[0;34m(\u001b[0m\u001b[0mmask\u001b[0m\u001b[0;34m)\u001b[0m\u001b[0;34m\u001b[0m\u001b[0m\n",
      "\u001b[0;31mNameError\u001b[0m: name 'red_Low' is not defined"
     ]
    }
   ],
   "source": [
    "hsv = cv2.cvtColor(frame, cv2.COLOR_BGR2HSV)\n",
    "mask = cv2.inRange(hsv, red_Low, red_Up)\n",
    "plt.imshow(mask)"
   ]
  },
  {
   "cell_type": "code",
   "execution_count": 62,
   "metadata": {},
   "outputs": [
    {
     "data": {
      "text/plain": [
       "True"
      ]
     },
     "execution_count": 62,
     "metadata": {},
     "output_type": "execute_result"
    }
   ],
   "source": [
    "\n",
    "\n",
    "mask = cv2.erode(mask, None, iterations=2)\n",
    "mask = cv2.dilate(mask, None, iterations=2)\n",
    "cnts = cv2.findContours(mask.copy(), cv2.RETR_EXTERNAL, cv2.CHAIN_APPROX_SIMPLE)[-2]\n",
    "centre = None\n",
    "if len(cnts) > 0:\n",
    "    c = max(cnts, key = cv2.contourArea)\n",
    "    ((x, y), radius) = cv2.minEnclosingCircle(c)\n",
    "    M = cv2.moments(c)\n",
    "    centre = (int(M[\"m10\"]/M[\"m00\"]), int(M[\"m01\"]/M[\"m00\"]))\n",
    "    if radius > 10:\n",
    "        flag_red_ball = 1\n",
    "        cv2.circle(frame, (int(x), int(y)), int(radius), (0, 255, 255), 2)\n",
    "        cv2.circle(frame, centre, 3, (0, 0, 255), -1)\n",
    "cv2.imwrite('Frame.jpg', frame)"
   ]
  },
  {
   "cell_type": "code",
   "execution_count": null,
   "metadata": {},
   "outputs": [],
   "source": []
  }
 ],
 "metadata": {
  "kernelspec": {
   "display_name": "Python 3",
   "language": "python",
   "name": "python3"
  },
  "language_info": {
   "codemirror_mode": {
    "name": "ipython",
    "version": 2
   },
   "file_extension": ".py",
   "mimetype": "text/x-python",
   "name": "python",
   "nbconvert_exporter": "python",
   "pygments_lexer": "ipython2",
   "version": "2.7.17"
  },
  "orig_nbformat": 4
 },
 "nbformat": 4,
 "nbformat_minor": 2
}
