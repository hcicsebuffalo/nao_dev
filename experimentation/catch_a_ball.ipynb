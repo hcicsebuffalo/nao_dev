{
 "cells": [
  {
   "cell_type": "code",
   "execution_count": null,
   "metadata": {},
   "outputs": [],
   "source": [
    "import os\n",
    "import sys\n",
    "import time\n",
    "from naoqi import ALProxy\n",
    "import threading\n",
    "import qi\n",
    "import numpy as np "
   ]
  },
  {
   "cell_type": "code",
   "execution_count": null,
   "metadata": {},
   "outputs": [],
   "source": [
    "# NAO_IP = \"10.0.255.22\"\n",
    "# NAO_PORT = 9559\n",
    "PEPPER_IP = \"10.0.255.8\"\n",
    "PEPPER_PORT = 9559"
   ]
  },
  {
   "cell_type": "code",
   "execution_count": null,
   "metadata": {},
   "outputs": [],
   "source": [
    "# tts = ALProxy(\"ALTextToSpeech\", PEPPER_IP, PEPPER_PORT)\n",
    "# tts.say(\"Hello, world!\")"
   ]
  },
  {
   "cell_type": "code",
   "execution_count": null,
   "metadata": {},
   "outputs": [],
   "source": [
    "CAMERA_DISPARITY = 10\n",
    "FOCAL_LENGTH = 30\n",
    "\n",
    "# defining the camera coordinates \n",
    "C1 = (0,0,0)\n",
    "C2 = (3,5,6) # completely random"
   ]
  },
  {
   "cell_type": "markdown",
   "metadata": {},
   "source": [
    "Getting pixel to read world mapping (will be done once)"
   ]
  },
  {
   "cell_type": "code",
   "execution_count": null,
   "metadata": {},
   "outputs": [],
   "source": [
    "def calc_scale(img_c1, REAL_DISTANCE, c1_x, c1_y, c2_x, c2_y):\n",
    "  # default resolution taken = 1280x960\n",
    "  \n",
    "  width, height = img_c1.size\n",
    "\n",
    "  # Calculate the center coordinates\n",
    "  center_x = width / 2\n",
    "  center_y = height / 2\n",
    "\n",
    "  camera_disparity = (c2_x - c1_x, c2_y - c1_y)\n",
    "  scale = camera_disparity/REAL_DISTANCE\n",
    "  # scale contains info only about x and y \n",
    "  return scale"
   ]
  },
  {
   "cell_type": "code",
   "execution_count": null,
   "metadata": {},
   "outputs": [],
   "source": [
    "def object_center(img):\n",
    "\n",
    "def get_object_disparity(img, obj_x, obj_y):\n",
    "  # resopnsible for X_L, X_R\n",
    "  # Get the width and height of the image in pixels\n",
    "  width, height = img.size\n",
    "\n",
    "  # Calculate the center coordinates\n",
    "  center_x = width / 2\n",
    "  center_y = height / 2\n",
    "\n",
    "  obj_x, obj_y = object_center(img) # copy ninad's code or use YOLO to detect the object and find the center \n",
    "  object_disparity = (obj_x - center_x, obj_y - center_y)\n",
    "  return object_disparity\n",
    "\n",
    "\n",
    "def calc_depth(CAMERA_DISPARITY, FOCAL_LENGTH, left_img, right_img):\n",
    "  X_L = get_object_disparity(left_img)\n",
    "  mod_X_L = np.sqrt(X_L[0]^2 + X_L[1]^2)\n",
    "  X_R = get_object_disparity(right_img)\n",
    "  mod_X_R = np.sqrt(X_R[0]^2 + X_R[1]^2)\n",
    "  depth = FOCAL_LENGTH/(1-(CAMERA_DISPARITY/(CAMERA_DISPARITY-(mod_X_L + mod_X_R))))\n",
    "  return depth\n",
    "\n",
    "def get_world_coordinates(scale, c1_x, c1_y, z_origin, depth):\n",
    "  world_coordinate = (scale[0] * c1_x, scale[1] * c1_y, z_origin + depth)\n",
    "  return world_coordinate"
   ]
  },
  {
   "cell_type": "code",
   "execution_count": null,
   "metadata": {},
   "outputs": [],
   "source": [
    "c1_x, c1_y = object_center(img_c1)\n",
    "c2_x, c2_y = object_center(img_c2)\n",
    "REAL_DISTANCE = 50\n",
    "scale = calc_scale(img_c1, img_c2, REAL_DISTANCE)"
   ]
  },
  {
   "cell_type": "code",
   "execution_count": null,
   "metadata": {},
   "outputs": [],
   "source": [
    "# you may take new sets of images now \n",
    "# c1_x, c1_y = object_center(img_c1)\n",
    "# c2_x, c2_y = object_center(img_c2)\n",
    "\n",
    "depth = calc_depth(CAMERA_DISPARITY, FOCAL_LENGTH, img_c1, img_c2)\n",
    "\n",
    "\n",
    "# here the z_origin is 0, as the camera1's world coordinate is (0,0,0)\n",
    "world_coordinate = get_world_coordinates(scale, c1_x, c1_y, 0, depth)\n"
   ]
  },
  {
   "cell_type": "code",
   "execution_count": null,
   "metadata": {},
   "outputs": [],
   "source": []
  }
 ],
 "metadata": {
  "kernelspec": {
   "display_name": "Python 3",
   "language": "python",
   "name": "python3"
  },
  "language_info": {
   "codemirror_mode": {
    "name": "ipython",
    "version": 2
   },
   "file_extension": ".py",
   "mimetype": "text/x-python",
   "name": "python",
   "nbconvert_exporter": "python",
   "pygments_lexer": "ipython2",
   "version": "2.7.17"
  },
  "orig_nbformat": 4
 },
 "nbformat": 4,
 "nbformat_minor": 2
}
