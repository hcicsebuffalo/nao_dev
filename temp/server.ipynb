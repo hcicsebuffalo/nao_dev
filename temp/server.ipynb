{
 "cells": [
  {
   "cell_type": "code",
   "execution_count": null,
   "metadata": {},
   "outputs": [],
   "source": [
    "from flask import Flask, abort, request, jsonify\n",
    "from tempfile import NamedTemporaryFile\n",
    "import whisper\n",
    "import torch\n",
    "model = whisper.load_model(\"medium.en\")\n",
    "app = Flask(__name__)\n",
    "@app.route('/transcribe', methods=['POST'])\n",
    "def transcribe():\n",
    "    if not request.files:\n",
    "        abort(400)\n",
    "    results = []\n",
    "    for filename, handle in request.files.items():\n",
    "        temp = NamedTemporaryFile()\n",
    "        handle.save(temp)\n",
    "        result = model.transcribe(temp.name)\n",
    "        results.append(result['text']) \n",
    "    return jsonify({'results': results})\n",
    "if __name__ == '__main__':\n",
    "    app.run()\n"
   ]
  }
 ],
 "metadata": {
  "language_info": {
   "name": "python"
  },
  "orig_nbformat": 4
 },
 "nbformat": 4,
 "nbformat_minor": 2
}
