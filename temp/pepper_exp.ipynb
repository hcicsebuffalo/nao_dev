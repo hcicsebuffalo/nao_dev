{
 "cells": [
  {
   "cell_type": "code",
   "execution_count": 1,
   "metadata": {},
   "outputs": [],
   "source": [
    "from naoqi import ALProxy\n",
    "import time\n",
    "\n",
    "#from python2.animations import *\n",
    "\n",
    "ip = \"10.0.255.8\"\n",
    "port = 9559"
   ]
  },
  {
   "cell_type": "code",
   "execution_count": 5,
   "metadata": {},
   "outputs": [],
   "source": [
    "tabletService = ALProxy(\"ALTabletService\" , ip, port)"
   ]
  },
  {
   "cell_type": "code",
   "execution_count": 3,
   "metadata": {},
   "outputs": [
    {
     "data": {
      "text/plain": [
       "True"
      ]
     },
     "execution_count": 3,
     "metadata": {},
     "output_type": "execute_result"
    }
   ],
   "source": [
    "try:\n",
    "    # Display a local web page located in boot-config/html folder\n",
    "    # The ip of the robot from the tablet is 198.18.0.1\n",
    "    tabletService.showWebview(\"http://198.18.0.1/apps/boot-config/preloading_dialog.html\")\n",
    "\n",
    "    time.sleep(3)\n",
    "\n",
    "    # Javascript script for displaying a prompt\n",
    "    # ALTabletBinding is a javascript binding inject in the web page displayed on the tablet\n",
    "    script = \"\"\"\n",
    "        var name = prompt(\"Please enter your name\", \"Harry Pepper\");\n",
    "        ALTabletBinding.raiseEvent(name)\n",
    "    \"\"\"\n",
    "\n",
    "    # Don't forget to disconnect the signal at the end\n",
    "    signalID = 0\n",
    "\n",
    "    # function called when the signal onJSEvent is triggered\n",
    "    # by the javascript function ALTabletBinding.raiseEvent(name)\n",
    "    def callback(event):\n",
    "        print( \"your name is:\", event )\n",
    "        promise.setValue(True)\n",
    "\n",
    "    promise = qi.Promise()\n",
    "\n",
    "    # attach the callback function to onJSEvent signal\n",
    "    signalID = tabletService.onJSEvent.connect(callback)\n",
    "\n",
    "    # inject and execute the javascript in the current web page displayed\n",
    "    tabletService.executeJS(script)\n",
    "\n",
    "    try:\n",
    "        promise.future().hasValue(30000)\n",
    "    except RuntimeError:\n",
    "        raise RuntimeError('Timeout: no signal triggered')\n",
    "\n",
    "except :\n",
    "    print( \"Error was:\")\n",
    "\n",
    "# Hide the web view\n",
    "tabletService.hideWebview()\n",
    "# disconnect the signal\n",
    "tabletService.onJSEvent.disconnect(signalID)"
   ]
  },
  {
   "cell_type": "code",
   "execution_count": 6,
   "metadata": {},
   "outputs": [],
   "source": [
    "import qi\n",
    "import argparse\n",
    "import sys\n",
    "import time"
   ]
  },
  {
   "cell_type": "code",
   "execution_count": 8,
   "metadata": {},
   "outputs": [],
   "source": [
    "session = qi.Session()\n",
    "try:\n",
    "    session.connect(\"tcp://\" + ip + \":\" + str(port))\n",
    "except RuntimeError:\n",
    "    print (\"Can't connect to Naoqi at ip \\\"\" + ip + \"\\\" on port \" + str(port) +\".\\n\"\n",
    "            \"Please check your script arguments. Run with -h option for help.\")\n",
    "    sys.exit(1)\n",
    "\n"
   ]
  },
  {
   "cell_type": "code",
   "execution_count": 9,
   "metadata": {},
   "outputs": [],
   "source": [
    "def main(session):\n",
    "    \"\"\"\n",
    "    This example uses the executeJS method.\n",
    "    To Test ALTabletService, you need to run the script ON the robot.\n",
    "    \"\"\"\n",
    "    # Get the service ALTabletService.\n",
    "    tabletService = session.service(\"ALTabletService\")\n",
    "\n",
    "    try:\n",
    "        # Display a local web page located in boot-config/html folder\n",
    "        # The ip of the robot from the tablet is 198.18.0.1\n",
    "        tabletService.showWebview(\"http://198.18.0.1/apps/boot-config/preloading_dialog.html\")\n",
    "\n",
    "        time.sleep(3)\n",
    "\n",
    "        # Javascript script for displaying a prompt\n",
    "        # ALTabletBinding is a javascript binding inject in the web page displayed on the tablet\n",
    "        script = \"\"\"\n",
    "            var name = prompt(\"Please enter your name\", \"Harry Pepper\");\n",
    "            ALTabletBinding.raiseEvent(name)\n",
    "        \"\"\"\n",
    "\n",
    "        # Don't forget to disconnect the signal at the end\n",
    "        signalID = 0\n",
    "\n",
    "        # function called when the signal onJSEvent is triggered\n",
    "        # by the javascript function ALTabletBinding.raiseEvent(name)\n",
    "        def callback(event):\n",
    "            print( \"your name is:\", event)\n",
    "            promise.setValue(True)\n",
    "\n",
    "        promise = qi.Promise()\n",
    "\n",
    "        # attach the callback function to onJSEvent signal\n",
    "        signalID = tabletService.onJSEvent.connect(callback)\n",
    "\n",
    "        # inject and execute the javascript in the current web page displayed\n",
    "        tabletService.executeJS(script)\n",
    "\n",
    "        try:\n",
    "            promise.future().hasValue(30000)\n",
    "        except RuntimeError:\n",
    "            raise RuntimeError('Timeout: no signal triggered')\n",
    "\n",
    "    except :\n",
    "        print (\"Error was:\")\n",
    "\n",
    "    # Hide the web view\n",
    "    tabletService.hideWebview()\n",
    "    # disconnect the signal\n",
    "    tabletService.onJSEvent.disconnect(signalID)"
   ]
  },
  {
   "cell_type": "code",
   "execution_count": 10,
   "metadata": {},
   "outputs": [
    {
     "name": "stdout",
     "output_type": "stream",
     "text": [
      "('your name is:', 'ninad')\n"
     ]
    }
   ],
   "source": [
    "main(session)"
   ]
  },
  {
   "cell_type": "code",
   "execution_count": 20,
   "metadata": {},
   "outputs": [],
   "source": [
    "\n",
    "import qi\n",
    "import argparse\n",
    "import sys\n",
    "import time\n",
    "\n",
    "\n",
    "def main1(session):\n",
    "    \"\"\"\n",
    "    This example uses the loadApplication method.\n",
    "    To Test ALTabletService, you need to run the script ON the robot.\n",
    "    \"\"\"\n",
    "    # Get the service ALTabletService.\n",
    "\n",
    "    try:\n",
    "        tabletService = session.service(\"ALTabletService\")\n",
    "\n",
    "        # Ensure that the tablet wifi is enable\n",
    "        tabletService.enableWifi()\n",
    "\n",
    "        # Display a web page on the tablet\n",
    "        tabletService.showWebview(\"http://www.google.com\")\n",
    "\n",
    "        time.sleep(10)\n",
    "\n",
    "        # Display a local web page located in boot-config/html folder\n",
    "        # The ip of the robot from the tablet is 198.18.0.1\n",
    "        tabletService.showWebview(\"http://198.18.0.1/apps/boot-config/preloading_dialog.html\")\n",
    "\n",
    "        time.sleep(10)\n",
    "\n",
    "        # Hide the web view\n",
    "        tabletService.hideWebview()\n",
    "    except :\n",
    "        print( \"Error was: \")\n",
    "\n",
    "main1(session)"
   ]
  },
  {
   "cell_type": "code",
   "execution_count": 31,
   "metadata": {},
   "outputs": [],
   "source": [
    "tabletService.showInputDialog(\"text\", \"titile\" , \" this is ok button\" , \" this is cancel button\")"
   ]
  },
  {
   "cell_type": "code",
   "execution_count": 32,
   "metadata": {},
   "outputs": [],
   "source": [
    "tabletService.hideDialog()"
   ]
  },
  {
   "cell_type": "code",
   "execution_count": 34,
   "metadata": {},
   "outputs": [],
   "source": [
    "tabletService.cleanWebview()"
   ]
  },
  {
   "cell_type": "code",
   "execution_count": 38,
   "metadata": {},
   "outputs": [
    {
     "data": {
      "text/plain": [
       "True"
      ]
     },
     "execution_count": 38,
     "metadata": {},
     "output_type": "execute_result"
    }
   ],
   "source": [
    "tabletService.showWebview(\"https://res.cloudinary.com/dqflv49oz/image/upload/v1687289204/wa6tfdsdlogtemddzqm6.png\")"
   ]
  },
  {
   "cell_type": "code",
   "execution_count": null,
   "metadata": {},
   "outputs": [],
   "source": []
  }
 ],
 "metadata": {
  "kernelspec": {
   "display_name": "Python 3",
   "language": "python",
   "name": "python3"
  },
  "language_info": {
   "codemirror_mode": {
    "name": "ipython",
    "version": 2
   },
   "file_extension": ".py",
   "mimetype": "text/x-python",
   "name": "python",
   "nbconvert_exporter": "python",
   "pygments_lexer": "ipython2",
   "version": "2.7.17"
  },
  "orig_nbformat": 4
 },
 "nbformat": 4,
 "nbformat_minor": 2
}
