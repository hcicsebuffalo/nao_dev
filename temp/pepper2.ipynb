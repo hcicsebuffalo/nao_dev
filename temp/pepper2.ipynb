{
 "cells": [
  {
   "cell_type": "code",
   "execution_count": 13,
   "metadata": {},
   "outputs": [
    {
     "name": "stdout",
     "output_type": "stream",
     "text": [
      "Collecting cloudinary\n",
      "  Downloading https://files.pythonhosted.org/packages/ec/50/3a4b08dd85b72a25bbf49eec4ab54996e70844872f799de0daae739889a7/cloudinary-1.33.0.tar.gz (172kB)\n",
      "\u001b[K    100% |████████████████████████████████| 174kB 3.2MB/s ta 0:00:01\n",
      "\u001b[?25hCollecting six (from cloudinary)\n",
      "  Using cached https://files.pythonhosted.org/packages/d9/5a/e7c31adbe875f2abbb91bd84cf2dc52d792b5a01506781dbcf25c91daf11/six-1.16.0-py2.py3-none-any.whl\n",
      "Collecting urllib3<2,>=1.26.5 (from cloudinary)\n",
      "  Using cached https://files.pythonhosted.org/packages/c5/05/c214b32d21c0b465506f95c4f28ccbcba15022e000b043b72b3df7728471/urllib3-1.26.16-py2.py3-none-any.whl\n",
      "Collecting certifi (from cloudinary)\n",
      "  Using cached https://files.pythonhosted.org/packages/37/45/946c02767aabb873146011e665728b680884cd8fe70dde973c640e45b775/certifi-2021.10.8-py2.py3-none-any.whl\n",
      "Building wheels for collected packages: cloudinary\n",
      "  Running setup.py bdist_wheel for cloudinary ... \u001b[?25ldone\n",
      "\u001b[?25h  Stored in directory: /home/hri/.cache/pip/wheels/b1/24/e6/b2cace7a45c9f4717f79201a6357e7998d927a41a21ba72793\n",
      "Successfully built cloudinary\n",
      "Installing collected packages: six, urllib3, certifi, cloudinary\n",
      "Successfully installed certifi-2021.10.8 cloudinary-1.33.0 six-1.16.0 urllib3-1.26.16\n"
     ]
    }
   ],
   "source": [
    "!pip install cloudinary\n"
   ]
  },
  {
   "cell_type": "code",
   "execution_count": 14,
   "metadata": {},
   "outputs": [],
   "source": [
    "from PIL import Image, ImageDraw, ImageFont\n",
    "import cloudinary\n",
    "import cloudinary.uploader\n",
    "import cloudinary.api"
   ]
  },
  {
   "cell_type": "code",
   "execution_count": null,
   "metadata": {},
   "outputs": [],
   "source": [
    "\n",
    "def text_to_image(text):\n",
    "    # Set image properties\n",
    "    image_width = 1280\n",
    "    image_height = 800\n",
    "    background_color = (255, 255, 255)  # White\n",
    "    text_color = (0, 0, 0)  # Black\n",
    "    font_size = 60\n",
    "\n",
    "    # Create a blank image\n",
    "    image = Image.new(\"RGB\", (image_width, image_height), background_color)\n",
    "    draw = ImageDraw.Draw(image)\n",
    "\n",
    "    # Load a font\n",
    "    font = ImageFont.truetype(\"FreeSans.ttf\", font_size)\n",
    "\n",
    "    max_text_width = image_width - 20  # Adjust padding as needed\n",
    "    max_text_height = image_height - 20  # Adjust padding as needed\n",
    "\n",
    "    # Wrap the text into multiple lines\n",
    "    lines = []\n",
    "    current_line = \"\"\n",
    "    words = text.split()\n",
    "    for word in words:\n",
    "        if draw.textsize(current_line + \" \" + word, font=font)[0] <= max_text_width:\n",
    "            current_line += \" \" + word\n",
    "        else:\n",
    "            lines.append(current_line.strip())\n",
    "            current_line = word\n",
    "    lines.append(current_line.strip())\n",
    "\n",
    "    # Adjust font size if needed to fit the lines\n",
    "    while any(draw.textsize(line, font=font)[0] > max_text_width for line in lines):\n",
    "        font_size -= 1\n",
    "        font = ImageFont.truetype(\"arial.ttf\", font_size)\n",
    "\n",
    "    # Calculate the text position\n",
    "    total_text_height = sum(draw.textsize(line, font=font)[1] for line in lines)\n",
    "    text_y = (image_height - total_text_height) // 2\n",
    "\n",
    "    # Draw the text on the image\n",
    "    for line in lines:\n",
    "        text_width, text_height = draw.textsize(line, font=font)\n",
    "        text_x = (image_width - text_width) // 2\n",
    "        draw.text((text_x, text_y), line, font=font, fill=text_color)\n",
    "        text_y += text_height\n",
    "\n",
    "    # Save the image to a file\n",
    "    image.save(\"text_image.png\")\n",
    "\n",
    "    return image\n",
    "\n",
    "# def upload_to_imgur(image_path, client_id, client_secret):\n",
    "#     client = ImgurClient(client_id, client_secret)\n",
    "#     response = client.upload_from_path(image_path, anon=True)\n",
    "#     return response[\"link\"]\n",
    "\n",
    "# Main code\n",
    "text = \"Hello, My name is Kai! I am Kai, a humanoid robot working at Davis Hall in University at Buffalo under Professor Nalini Ratha. My primary function is to assist in research and development in the field of computer science and engineering.\"\n",
    "\n",
    "# Convert the text to an image\n",
    "image = text_to_image(text)\n",
    "\n",
    "# Save the image\n",
    "image_path = \"text_image.png\"\n",
    "image.save(image_path)\n"
   ]
  },
  {
   "cell_type": "code",
   "execution_count": 27,
   "metadata": {},
   "outputs": [
    {
     "data": {
      "text/plain": [
       "<cloudinary.Config at 0x7fa6d1876150>"
      ]
     },
     "execution_count": 27,
     "metadata": {},
     "output_type": "execute_result"
    }
   ],
   "source": [
    "cloudinary.config(\n",
    "  cloud_name = 'dqflv49oz', \n",
    "  api_key = '958546157725331', \n",
    "  api_secret = 'ML519Ik_1kbfPo9tpkSvSifrUoc' \n",
    ")"
   ]
  },
  {
   "cell_type": "code",
   "execution_count": 28,
   "metadata": {},
   "outputs": [],
   "source": [
    "response = cloudinary.uploader.upload(\"text_image.png\")\n",
    "image_url = response['secure_url']"
   ]
  },
  {
   "cell_type": "code",
   "execution_count": 30,
   "metadata": {},
   "outputs": [
    {
     "data": {
      "text/plain": [
       "u'https://res.cloudinary.com/dqflv49oz/image/upload/v1687289204/wa6tfdsdlogtemddzqm6.png'"
      ]
     },
     "execution_count": 30,
     "metadata": {},
     "output_type": "execute_result"
    }
   ],
   "source": [
    "image_url"
   ]
  },
  {
   "cell_type": "code",
   "execution_count": 31,
   "metadata": {},
   "outputs": [
    {
     "data": {
      "text/plain": [
       "'https://res.cloudinary.com/dqflv49oz/image/upload/v1687289204/wa6tfdsdlogtemddzqm6.png'"
      ]
     },
     "execution_count": 31,
     "metadata": {},
     "output_type": "execute_result"
    }
   ],
   "source": [
    "str(image_url)"
   ]
  },
  {
   "cell_type": "code",
   "execution_count": 24,
   "metadata": {},
   "outputs": [
    {
     "ename": "AttributeError",
     "evalue": "'module' object has no attribute 'get_fonts'",
     "output_type": "error",
     "traceback": [
      "\u001b[0;31m\u001b[0m",
      "\u001b[0;31mAttributeError\u001b[0mTraceback (most recent call last)",
      "\u001b[0;32m<ipython-input-24-cf413934311d>\u001b[0m in \u001b[0;36m<module>\u001b[0;34m()\u001b[0m\n\u001b[0;32m----> 1\u001b[0;31m \u001b[0mfonts\u001b[0m \u001b[0;34m=\u001b[0m \u001b[0mImageFont\u001b[0m\u001b[0;34m.\u001b[0m\u001b[0mget_fonts\u001b[0m\u001b[0;34m(\u001b[0m\u001b[0;34m)\u001b[0m\u001b[0;34m\u001b[0m\u001b[0m\n\u001b[0m",
      "\u001b[0;31mAttributeError\u001b[0m: 'module' object has no attribute 'get_fonts'"
     ]
    }
   ],
   "source": [
    "fonts = ImageFont.get_fonts()"
   ]
  },
  {
   "cell_type": "code",
   "execution_count": 25,
   "metadata": {},
   "outputs": [
    {
     "name": "stdout",
     "output_type": "stream",
     "text": [
      "Liberation Serif\n",
      "Liberation Sans\n",
      "Liberation Serif\n",
      "Liberation Sans\n",
      "DejaVu Sans\n",
      "Liberation Mono\n",
      "FreeMono\n",
      "DejaVu Serif\n",
      "FreeSerif\n",
      "Liberation Sans Narrow\n",
      "DejaVu Serif\n",
      "DejaVu Sans\n",
      "Liberation Sans Narrow\n",
      "FreeSans\n",
      "Liberation Sans\n",
      "Liberation Sans\n",
      "DejaVu Sans Mono\n",
      "FreeSans\n",
      "Liberation Mono\n",
      "DejaVu Sans Mono\n",
      "FreeSerif\n",
      "Liberation Mono\n",
      "FreeMono\n",
      "Liberation Serif\n",
      "FreeSans\n",
      "FreeSans\n",
      "FreeMono\n",
      "Liberation Mono\n",
      "FreeSerif\n",
      "FreeSerif\n",
      "FreeMono\n",
      "Liberation Sans Narrow\n",
      "Liberation Sans Narrow\n",
      "Liberation Serif\n"
     ]
    }
   ],
   "source": [
    "import matplotlib.font_manager as fm\n",
    "\n",
    "# Get a list of available font names\n",
    "fonts = fm.findSystemFonts()\n",
    "font_names = [fm.get_font(font).family_name for font in fonts]\n",
    "\n",
    "# Print all available fonts\n",
    "for font in font_names:\n",
    "    print(font)"
   ]
  },
  {
   "cell_type": "code",
   "execution_count": null,
   "metadata": {},
   "outputs": [],
   "source": []
  }
 ],
 "metadata": {
  "kernelspec": {
   "display_name": "Python 3",
   "language": "python",
   "name": "python3"
  },
  "language_info": {
   "codemirror_mode": {
    "name": "ipython",
    "version": 2
   },
   "file_extension": ".py",
   "mimetype": "text/x-python",
   "name": "python",
   "nbconvert_exporter": "python",
   "pygments_lexer": "ipython2",
   "version": "2.7.17"
  },
  "orig_nbformat": 4
 },
 "nbformat": 4,
 "nbformat_minor": 2
}
