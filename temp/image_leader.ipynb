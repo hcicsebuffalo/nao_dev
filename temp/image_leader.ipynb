{
 "cells": [
  {
   "cell_type": "code",
   "execution_count": 1,
   "metadata": {},
   "outputs": [
    {
     "ename": "ModuleNotFoundError",
     "evalue": "No module named 'PIL'",
     "output_type": "error",
     "traceback": [
      "\u001b[0;31m---------------------------------------------------------------------------\u001b[0m",
      "\u001b[0;31mModuleNotFoundError\u001b[0m                       Traceback (most recent call last)",
      "Cell \u001b[0;32mIn[1], line 4\u001b[0m\n\u001b[1;32m      2\u001b[0m \u001b[39mimport\u001b[39;00m \u001b[39mos\u001b[39;00m\n\u001b[1;32m      3\u001b[0m \u001b[39mimport\u001b[39;00m \u001b[39mcsv\u001b[39;00m\n\u001b[0;32m----> 4\u001b[0m \u001b[39mfrom\u001b[39;00m \u001b[39mPIL\u001b[39;00m \u001b[39mimport\u001b[39;00m Image, ImageDraw, ImageFont\n",
      "\u001b[0;31mModuleNotFoundError\u001b[0m: No module named 'PIL'"
     ]
    }
   ],
   "source": [
    "import sys\n",
    "import os\n",
    "import csv\n",
    "from PIL import Image, ImageDraw, ImageFont\n"
   ]
  },
  {
   "cell_type": "code",
   "execution_count": 2,
   "metadata": {},
   "outputs": [],
   "source": [
    "def give_url_1(input_image_path, text):\n",
    "    # Set image properties\n",
    "    image_width = 1280\n",
    "    image_height = 800\n",
    "    background_color = (255, 255, 255)  # White\n",
    "    text_color = (0, 0, 0)  # Black\n",
    "    font_size = 100\n",
    "\n",
    "    # Load a font\n",
    "    font = ImageFont.truetype(\"arial.ttf\", font_size)\n",
    "\n",
    "    max_text_width = image_width // 2 - 40  # Adjust padding as needed for left side\n",
    "    max_text_height = image_height - 20  # Adjust padding as needed\n",
    "\n",
    "    # Create a blank image\n",
    "    image = Image.new(\"RGB\", (image_width, image_height), background_color)\n",
    "    draw = ImageDraw.Draw(image)\n",
    "\n",
    "    # Load the input image\n",
    "    input_img = Image.open(input_image_path)\n",
    "\n",
    "    # Resize the input image to fit on the left side\n",
    "    input_img = input_img.resize((image_width // 2, image_height))\n",
    "\n",
    "    # Paste the input image on the left side of the output image\n",
    "    image.paste(input_img, (0, 0))\n",
    "\n",
    "    # Wrap the text into multiple lines\n",
    "    lines = []\n",
    "    current_line = \"\"\n",
    "    words = text.split()\n",
    "    for word in words:\n",
    "        if draw.textsize(current_line + \" \" + word, font=font)[0] <= max_text_width:\n",
    "            current_line += \" \" + word\n",
    "        else:\n",
    "            lines.append(current_line.strip())\n",
    "            current_line = word\n",
    "    lines.append(current_line.strip())\n",
    "\n",
    "    # Adjust font size if needed to fit the lines\n",
    "    while any(draw.textsize(line, font=font)[0] > max_text_width for line in lines):\n",
    "        font_size -= 1\n",
    "        font = ImageFont.truetype(\"arial.ttf\", font_size)\n",
    "\n",
    "    # Calculate the text position\n",
    "    total_text_height = sum(draw.textsize(line, font=font)[1] for line in lines)\n",
    "    text_y = (image_height - total_text_height) // 2\n",
    "\n",
    "    # Draw the text on the right side of the image\n",
    "    text_x = image_width // 2 + 20  # Place the text on the right side with padding\n",
    "    for line in lines:\n",
    "        text_width, text_height = draw.textsize(line, font=font)\n",
    "        draw.text((text_x, text_y), line, font=font, fill=text_color)\n",
    "        text_y += text_height\n",
    "\n",
    "    # Save the image to a file\n",
    "    image.save(\"output_image_1.png\")\n",
    "    print(\"saved\")\n"
   ]
  },
  {
   "cell_type": "code",
   "execution_count": 3,
   "metadata": {},
   "outputs": [
    {
     "ename": "NameError",
     "evalue": "name 'ImageFont' is not defined",
     "output_type": "error",
     "traceback": [
      "\u001b[0;31m---------------------------------------------------------------------------\u001b[0m",
      "\u001b[0;31mNameError\u001b[0m                                 Traceback (most recent call last)",
      "Cell \u001b[0;32mIn[3], line 8\u001b[0m\n\u001b[1;32m      5\u001b[0m text \u001b[39m=\u001b[39m \u001b[39m\"\u001b[39m\u001b[39mInternationally recognized as an accomplished researcher and transformative higher education leader, Dr. Satish K. Tripathi was appointed the 15th president of the University at Buffalo on April 18, 2011.\u001b[39m\u001b[39m\"\u001b[39m\n\u001b[1;32m      7\u001b[0m \u001b[39m# Call the function to create the output image\u001b[39;00m\n\u001b[0;32m----> 8\u001b[0m give_url_1(input_image_path, text)\n",
      "Cell \u001b[0;32mIn[2], line 10\u001b[0m, in \u001b[0;36mgive_url_1\u001b[0;34m(input_image_path, text)\u001b[0m\n\u001b[1;32m      7\u001b[0m font_size \u001b[39m=\u001b[39m \u001b[39m100\u001b[39m\n\u001b[1;32m      9\u001b[0m \u001b[39m# Load a font\u001b[39;00m\n\u001b[0;32m---> 10\u001b[0m font \u001b[39m=\u001b[39m ImageFont\u001b[39m.\u001b[39mtruetype(\u001b[39m\"\u001b[39m\u001b[39marial.ttf\u001b[39m\u001b[39m\"\u001b[39m, font_size)\n\u001b[1;32m     12\u001b[0m max_text_width \u001b[39m=\u001b[39m image_width \u001b[39m/\u001b[39m\u001b[39m/\u001b[39m \u001b[39m2\u001b[39m \u001b[39m-\u001b[39m \u001b[39m40\u001b[39m  \u001b[39m# Adjust padding as needed for left side\u001b[39;00m\n\u001b[1;32m     13\u001b[0m max_text_height \u001b[39m=\u001b[39m image_height \u001b[39m-\u001b[39m \u001b[39m20\u001b[39m  \u001b[39m# Adjust padding as needed\u001b[39;00m\n",
      "\u001b[0;31mNameError\u001b[0m: name 'ImageFont' is not defined"
     ]
    }
   ],
   "source": [
    "# Replace 'input_image.jpg' with the path to your input image\n",
    "input_image_path = \"/home/hri/nao_dev/temp/satish_tripathi.png\"\n",
    "\n",
    "# Replace 'Your text goes here...' with your actual text content\n",
    "text = \"Internationally recognized as an accomplished researcher and transformative higher education leader, Dr. Satish K. Tripathi was appointed the 15th president of the University at Buffalo on April 18, 2011.\"\n",
    "\n",
    "# Call the function to create the output image\n",
    "give_url_1(input_image_path, text)\n"
   ]
  },
  {
   "cell_type": "code",
   "execution_count": null,
   "metadata": {},
   "outputs": [],
   "source": []
  }
 ],
 "metadata": {
  "kernelspec": {
   "display_name": "hrip",
   "language": "python",
   "name": "python3"
  },
  "language_info": {
   "codemirror_mode": {
    "name": "ipython",
    "version": 3
   },
   "file_extension": ".py",
   "mimetype": "text/x-python",
   "name": "python",
   "nbconvert_exporter": "python",
   "pygments_lexer": "ipython3",
   "version": "2.7.17"
  },
  "orig_nbformat": 4
 },
 "nbformat": 4,
 "nbformat_minor": 2
}
