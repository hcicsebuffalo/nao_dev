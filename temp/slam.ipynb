{
 "cells": [
  {
   "cell_type": "code",
   "execution_count": 3,
   "metadata": {},
   "outputs": [],
   "source": [
    "from naoqi import ALProxy\n",
    "import time\n",
    "import numpy as np\n",
    "\n",
    "#from python2.animations import *\n",
    "\n",
    "ip = \"10.0.255.8\"\n",
    "port = 9559"
   ]
  },
  {
   "cell_type": "code",
   "execution_count": 5,
   "metadata": {},
   "outputs": [],
   "source": [
    "memory_service = ALProxy(\"ALMemory\" , ip, port)"
   ]
  },
  {
   "cell_type": "code",
   "execution_count": 9,
   "metadata": {},
   "outputs": [
    {
     "name": "stdout",
     "output_type": "stream",
     "text": [
      "2.65000009537\n",
      "4.73999977112\n",
      "1.74000000954\n",
      "4.42000007629\n",
      "2.3599998951\n",
      "2.61999988556\n",
      "1.74000000954\n",
      "4.75\n",
      "1.09000003338\n",
      "1.05999994278\n",
      "1.10000002384\n",
      "1.08000004292\n",
      "0.889999985695\n",
      "2.63000011444\n",
      "1.75999999046\n",
      "2.61999988556\n",
      "2.6400001049\n",
      "2.59999990463\n",
      "0.860000014305\n",
      "0.280000001192\n",
      "0.280000001192\n",
      "0.280000001192\n",
      "0.280000001192\n",
      "0.280000001192\n",
      "0.280000001192\n",
      "0.280000001192\n",
      "0.280000001192\n",
      "0.280000001192\n",
      "0.340000003576\n",
      "0.509999990463\n",
      "0.5\n",
      "0.490000009537\n",
      "0.620000004768\n",
      "1.04999995232\n",
      "1.05999994278\n",
      "1.05999994278\n",
      "1.03999996185\n",
      "1.12999999523\n",
      "1.22000002861\n",
      "1.08000004292\n",
      "1.09000003338\n",
      "0.77999997139\n",
      "0.439999997616\n",
      "0.280000001192\n",
      "0.370000004768\n",
      "0.730000019073\n",
      "0.579999983311\n",
      "0.839999973774\n",
      "1.75\n",
      "1.75999999046\n",
      "1.75\n",
      "1.74000000954\n",
      "1.75999999046\n"
     ]
    },
    {
     "ename": "KeyboardInterrupt",
     "evalue": "",
     "output_type": "error",
     "traceback": [
      "\u001b[0;31m\u001b[0m",
      "\u001b[0;31mKeyboardInterrupt\u001b[0mTraceback (most recent call last)",
      "\u001b[0;32m<ipython-input-9-0c3e67ed0e2d>\u001b[0m in \u001b[0;36m<module>\u001b[0;34m()\u001b[0m\n\u001b[1;32m      4\u001b[0m     \u001b[0mvalue\u001b[0m \u001b[0;34m=\u001b[0m \u001b[0mmemory_service\u001b[0m\u001b[0;34m.\u001b[0m\u001b[0mgetData\u001b[0m\u001b[0;34m(\u001b[0m\u001b[0mkey\u001b[0m\u001b[0;34m)\u001b[0m\u001b[0;34m\u001b[0m\u001b[0m\n\u001b[1;32m      5\u001b[0m     \u001b[0;32mprint\u001b[0m\u001b[0;34m(\u001b[0m\u001b[0mvalue\u001b[0m\u001b[0;34m)\u001b[0m\u001b[0;34m\u001b[0m\u001b[0m\n\u001b[0;32m----> 6\u001b[0;31m     \u001b[0mtime\u001b[0m\u001b[0;34m.\u001b[0m\u001b[0msleep\u001b[0m\u001b[0;34m(\u001b[0m\u001b[0;36m1\u001b[0m\u001b[0;34m)\u001b[0m\u001b[0;34m\u001b[0m\u001b[0m\n\u001b[0m",
      "\u001b[0;31mKeyboardInterrupt\u001b[0m: "
     ]
    }
   ],
   "source": [
    "while True:\n",
    "    # Read the value of a key\n",
    "    key = \"Device/SubDeviceList/Platform/Front/Sonar/Sensor/Value\"\n",
    "    value = memory_service.getData(key)\n",
    "    print(value)\n",
    "    time.sleep(1)"
   ]
  },
  {
   "cell_type": "code",
   "execution_count": null,
   "metadata": {},
   "outputs": [],
   "source": []
  }
 ],
 "metadata": {
  "kernelspec": {
   "display_name": "Python 3",
   "language": "python",
   "name": "python3"
  },
  "language_info": {
   "codemirror_mode": {
    "name": "ipython",
    "version": 2
   },
   "file_extension": ".py",
   "mimetype": "text/x-python",
   "name": "python",
   "nbconvert_exporter": "python",
   "pygments_lexer": "ipython2",
   "version": "2.7.17"
  },
  "orig_nbformat": 4
 },
 "nbformat": 4,
 "nbformat_minor": 2
}
