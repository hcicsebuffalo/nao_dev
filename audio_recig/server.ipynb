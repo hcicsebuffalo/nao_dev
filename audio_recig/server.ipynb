{
 "cells": [
  {
   "cell_type": "code",
   "execution_count": 2,
   "metadata": {},
   "outputs": [],
   "source": [
    "import requests\n",
    "\n",
    "API_URL = 'http://128.205.43.182:5000/transcribe'"
   ]
  },
  {
   "cell_type": "code",
   "execution_count": 3,
   "metadata": {},
   "outputs": [
    {
     "name": "stdout",
     "output_type": "stream",
     "text": [
      "{'results': [\" Hi, my name is Rahul. What's up? It's a beautiful day here in Buffalo.\"]}\n"
     ]
    }
   ],
   "source": [
    "audio_file = '/home/hri/nao_dev/audio_recig/rahul_1.wav'\n",
    "\n",
    "response = requests.post(API_URL, files={'audio': open(audio_file, 'rb')})\n",
    "\n",
    "if response.status_code == 200:\n",
    "    transcription = response.json()\n",
    "    print(transcription)\n",
    "else:\n",
    "    print('Error:', response.status_code)\n"
   ]
  },
  {
   "cell_type": "code",
   "execution_count": null,
   "metadata": {},
   "outputs": [],
   "source": []
  }
 ],
 "metadata": {
  "kernelspec": {
   "display_name": "hrip",
   "language": "python",
   "name": "python3"
  },
  "language_info": {
   "codemirror_mode": {
    "name": "ipython",
    "version": 3
   },
   "file_extension": ".py",
   "mimetype": "text/x-python",
   "name": "python",
   "nbconvert_exporter": "python",
   "pygments_lexer": "ipython3",
   "version": "3.10.9"
  },
  "orig_nbformat": 4
 },
 "nbformat": 4,
 "nbformat_minor": 2
}
