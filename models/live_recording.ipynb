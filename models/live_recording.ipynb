{
 "cells": [
  {
   "cell_type": "code",
   "execution_count": 1,
   "metadata": {},
   "outputs": [],
   "source": [
    "import pvporcupine\n",
    "import pyaudio\n",
    "import wave\n",
    "import struct\n",
    "import os\n",
    "import sys"
   ]
  },
  {
   "cell_type": "code",
   "execution_count": 2,
   "metadata": {},
   "outputs": [],
   "source": [
    "def record_audio_with_fixed_duration(path, filename, duration):\n",
    "    # Set the parameters for the audio stream\n",
    "    chunk = 1024\n",
    "    sample_format = pyaudio.paInt16\n",
    "    channels = 1\n",
    "    fs = 44100\n",
    "    \n",
    "    # Initialize the PyAudio object\n",
    "    p = pyaudio.PyAudio()\n",
    "    \n",
    "    # Open the audio stream\n",
    "    stream = p.open(format=sample_format,\n",
    "                    channels=channels,\n",
    "                    rate=fs,\n",
    "                    frames_per_buffer=chunk,\n",
    "                    input=True)\n",
    "    \n",
    "    frames = []\n",
    "    \n",
    "    # Record the audio for the specified duration   \n",
    "    for i in range(int(fs / chunk * duration)):\n",
    "        data = stream.read(chunk)\n",
    "        frames.append(data)\n",
    "    \n",
    "    # Stop and close the audio stream\n",
    "    stream.stop_stream()\n",
    "    stream.close()\n",
    "    \n",
    "    # Terminate the PyAudio object\n",
    "    p.terminate()\n",
    "    \n",
    "    # Save the recorded audio as a WAV file\n",
    "    file_path = os.path.join(path, filename)\n",
    "    wf = wave.open(file_path, 'wb')\n",
    "    wf.setnchannels(channels)\n",
    "    wf.setsampwidth(p.get_sample_size(sample_format))\n",
    "    wf.setframerate(fs)\n",
    "    wf.writeframes(b''.join(frames))\n",
    "    wf.close()"
   ]
  },
  {
   "cell_type": "code",
   "execution_count": 4,
   "metadata": {},
   "outputs": [
    {
     "name": "stdout",
     "output_type": "stream",
     "text": [
      "Listening for wake word...\n",
      "Wake word detected!\n",
      "Wake word detected!\n"
     ]
    },
    {
     "ename": "KeyboardInterrupt",
     "evalue": "",
     "output_type": "error",
     "traceback": [
      "\u001b[0;31m---------------------------------------------------------------------------\u001b[0m",
      "\u001b[0;31mKeyboardInterrupt\u001b[0m                         Traceback (most recent call last)",
      "Cell \u001b[0;32mIn[4], line 27\u001b[0m\n\u001b[1;32m     24\u001b[0m \u001b[39mprint\u001b[39m(\u001b[39m\"\u001b[39m\u001b[39mListening for wake word...\u001b[39m\u001b[39m\"\u001b[39m)\n\u001b[1;32m     25\u001b[0m \u001b[39mwhile\u001b[39;00m \u001b[39mTrue\u001b[39;00m:\n\u001b[1;32m     26\u001b[0m     \u001b[39m# Read a frame of audio\u001b[39;00m\n\u001b[0;32m---> 27\u001b[0m     pcm \u001b[39m=\u001b[39m audio_stream\u001b[39m.\u001b[39;49mread(porcupine\u001b[39m.\u001b[39;49mframe_length)\n\u001b[1;32m     28\u001b[0m     pcm \u001b[39m=\u001b[39m struct\u001b[39m.\u001b[39munpack_from(\u001b[39m\"\u001b[39m\u001b[39mh\u001b[39m\u001b[39m\"\u001b[39m \u001b[39m*\u001b[39m porcupine\u001b[39m.\u001b[39mframe_length, pcm)\n\u001b[1;32m     30\u001b[0m     \u001b[39m# Process the frame with Porcupine\u001b[39;00m\n",
      "File \u001b[0;32m~/miniconda3/envs/hri/lib/python3.10/site-packages/PyAudio-0.2.11-py3.10-linux-x86_64.egg/pyaudio.py:608\u001b[0m, in \u001b[0;36mStream.read\u001b[0;34m(self, num_frames, exception_on_overflow)\u001b[0m\n\u001b[1;32m    604\u001b[0m \u001b[39mif\u001b[39;00m \u001b[39mnot\u001b[39;00m \u001b[39mself\u001b[39m\u001b[39m.\u001b[39m_is_input:\n\u001b[1;32m    605\u001b[0m     \u001b[39mraise\u001b[39;00m \u001b[39mIOError\u001b[39;00m(\u001b[39m\"\u001b[39m\u001b[39mNot input stream\u001b[39m\u001b[39m\"\u001b[39m,\n\u001b[1;32m    606\u001b[0m                   paCanNotReadFromAnOutputOnlyStream)\n\u001b[0;32m--> 608\u001b[0m \u001b[39mreturn\u001b[39;00m pa\u001b[39m.\u001b[39;49mread_stream(\u001b[39mself\u001b[39;49m\u001b[39m.\u001b[39;49m_stream, num_frames, exception_on_overflow)\n",
      "\u001b[0;31mKeyboardInterrupt\u001b[0m: "
     ]
    }
   ],
   "source": [
    "# https://console.picovoice.ai/\n",
    "pico_key = os.environ[\"PICOVOICE_API_KEY\"]\n",
    "path=\"/home/hri/nao_dev/models/hey_aiko_ja_linux_v2_1_0.ppn\"\n",
    "# https://github.com/Picovoice/porcupine/tree/master/lib/common\n",
    "\n",
    "porcupine = pvporcupine.create(access_key=pico_key, keyword_paths=[path], model_path=\"/home/hri/nao_dev/models/porcupine_params_ja.pv\")\n",
    "\n",
    "# Initialize PyAudio and open a stream\n",
    "pa = pyaudio.PyAudio()\n",
    "audio_stream = pa.open(\n",
    "    rate=porcupine.sample_rate,\n",
    "    channels=1,\n",
    "    format=pyaudio.paInt16,\n",
    "    input=True,\n",
    "    frames_per_buffer=porcupine.frame_length)\n",
    "\n",
    "# Loop until the wake word is detected\n",
    "print(\"Listening for wake word...\")\n",
    "while True:\n",
    "    # Read a frame of audio\n",
    "    pcm = audio_stream.read(porcupine.frame_length)\n",
    "    pcm = struct.unpack_from(\"h\" * porcupine.frame_length, pcm)\n",
    "\n",
    "    # Process the frame with Porcupine\n",
    "    keyword_index = porcupine.process(pcm)\n",
    "\n",
    "    # If the wake word is detected, break the loop\n",
    "    if keyword_index >= 0:\n",
    "        print(\"Wake word detected!\")\n",
    "        # break\n",
    "\n",
    "\n",
    "porcupine.delete()"
   ]
  },
  {
   "cell_type": "code",
   "execution_count": null,
   "metadata": {},
   "outputs": [],
   "source": []
  }
 ],
 "metadata": {
  "kernelspec": {
   "display_name": "peppercudaenv",
   "language": "python",
   "name": "python3"
  },
  "language_info": {
   "codemirror_mode": {
    "name": "ipython",
    "version": 3
   },
   "file_extension": ".py",
   "mimetype": "text/x-python",
   "name": "python",
   "nbconvert_exporter": "python",
   "pygments_lexer": "ipython3",
   "version": "3.10.9"
  },
  "orig_nbformat": 4
 },
 "nbformat": 4,
 "nbformat_minor": 2
}
