{
 "cells": [
  {
   "cell_type": "code",
   "execution_count": 56,
   "metadata": {},
   "outputs": [],
   "source": [
    "import os\n",
    "import sys\n",
    "import time\n",
    "from naoqi import ALProxy\n",
    "import threading\n",
    "import qi"
   ]
  },
  {
   "attachments": {},
   "cell_type": "markdown",
   "metadata": {},
   "source": [
    "Highest permission to a folder\n",
    "\n",
    "chmod -R 777 filename "
   ]
  },
  {
   "cell_type": "code",
   "execution_count": 2,
   "metadata": {},
   "outputs": [],
   "source": [
    "# from elevate import elevate\n",
    "\n",
    "# def is_root():\n",
    "#     return os.getuid() == 0\n",
    "\n",
    "# print(\"before \", is_root())\n",
    "# elevate()\n",
    "# print(\"after \", is_root())"
   ]
  },
  {
   "cell_type": "code",
   "execution_count": 45,
   "metadata": {},
   "outputs": [],
   "source": [
    "NAO_IP = \"10.0.255.22\"\n",
    "NAO_PORT = 9559\n",
    "PEPPER_IP = \"10.0.255.8\"\n",
    "PEPPER_PORT = 9559"
   ]
  },
  {
   "cell_type": "code",
   "execution_count": 17,
   "metadata": {},
   "outputs": [],
   "source": [
    "tts = ALProxy(\"ALTextToSpeech\", NAO_IP, NAO_PORT)\n",
    "tts.say(\"Hello, world!\")"
   ]
  },
  {
   "cell_type": "code",
   "execution_count": 46,
   "metadata": {},
   "outputs": [],
   "source": [
    "tts = ALProxy(\"ALTextToSpeech\", PEPPER_IP, PEPPER_PORT)\n",
    "tts.say(\"Hello, world!\")"
   ]
  },
  {
   "cell_type": "code",
   "execution_count": 40,
   "metadata": {},
   "outputs": [
    {
     "data": {
      "text/plain": [
       "True"
      ]
     },
     "execution_count": 40,
     "metadata": {},
     "output_type": "execute_result"
    }
   ],
   "source": [
    "# Create a proxy to ALMotion\n",
    "motion = ALProxy(\"ALMotion\", PEPPER_IP, PEPPER_PORT)\n",
    "\n",
    "# Wake up robot\n",
    "motion.wakeUp()"
   ]
  },
  {
   "cell_type": "code",
   "execution_count": 41,
   "metadata": {},
   "outputs": [],
   "source": [
    "# Set stiffness for right arm\n",
    "motion.setStiffnesses(\"RArm\", 1.0)\n",
    "\n",
    "# Define the names and angles of the joints to move\n",
    "names = [\"RShoulderPitch\", \"RShoulderRoll\", \"RElbowYaw\", \"RElbowRoll\", \"RWristYaw\"]\n",
    "angles = [[0.0, -1.0, 0.0], # RShoulderPitch\n",
    "          [-0.3, -1.2, -0.3], # RShoulderRoll\n",
    "          [1.2, 0.8, 1.2], # RElbowYaw\n",
    "          [0.5, 1.5, 0.5], # RElbowRoll\n",
    "          [0.0, 0.0, 0.0]] # RWristYaw\n",
    "\n",
    "# Define the time intervals for each movement\n",
    "times = [[1.0, 2.0, 3.0], # RShoulderPitch\n",
    "         [1.0, 2.0, 3.0], # RShoulderRoll\n",
    "         [1.0, 2.0, 3.0], # RElbowYaw\n",
    "         [1.0, 2.0, 3.0], # RElbowRoll\n",
    "         [1.0, 2.0, 3.0]] # RWristYaw\n",
    "\n",
    "# Set the movement to be absolute angles\n",
    "isAbsolute = True"
   ]
  },
  {
   "cell_type": "code",
   "execution_count": 42,
   "metadata": {},
   "outputs": [],
   "source": [
    "# Execute the movement\n",
    "motion.angleInterpolation(names, angles, times, isAbsolute)"
   ]
  },
  {
   "cell_type": "code",
   "execution_count": 43,
   "metadata": {},
   "outputs": [],
   "source": [
    "# Set stiffness for right arm to zero\n",
    "motion.setStiffnesses(\"RArm\", 0.0)\n",
    "\n",
    "# Go to rest position\n",
    "motion.rest()"
   ]
  },
  {
   "cell_type": "code",
   "execution_count": 76,
   "metadata": {},
   "outputs": [],
   "source": [
    "# Create a proxy to ALMotion\n",
    "motion = ALProxy(\"ALMotion\", PEPPER_IP, PEPPER_PORT)\n",
    "# Create a proxy to ALSpeech\n",
    "tts = ALProxy(\"ALTextToSpeech\", PEPPER_IP, PEPPER_PORT)\n",
    "\n",
    "# Wake up robot\n",
    "motion.wakeUp()\n",
    "\n",
    "# Set stiffness for both arms\n",
    "motion.setStiffnesses([\"LArm\", \"RArm\"], 1.0)\n",
    "\n",
    "# Define the names and angles of the joints to move\n",
    "names = [\"HeadPitch\", \"HeadYaw\",\n",
    "         \"LShoulderPitch\", \"LShoulderRoll\", \"LElbowYaw\", \"LElbowRoll\", \"LWristYaw\",\n",
    "         \"RShoulderPitch\", \"RShoulderRoll\", \"RElbowYaw\", \"RElbowRoll\", \"RWristYaw\"]\n",
    "angles = [[0.0, -0.2, 0.0], # HeadPitch\n",
    "          [0.0, 0.5, -0.5, 0.0], # HeadYaw\n",
    "          [0.0, -1.0, 0.0], # LShoulderPitch\n",
    "          [0.3, 1.2, 0.3], # LShoulderRoll\n",
    "          [-1.2, -0.8, -1.2], # LElbowYaw\n",
    "          [-0.5, -1.5, -0.5], # LElbowRoll\n",
    "          [0.0, 0.0, 0.0], # LWristYaw\n",
    "          [0.0, -1.0, 0.0], # RShoulderPitch\n",
    "          [-0.3, -1.2, -0.3], # RShoulderRoll\n",
    "          [1.2, 0.8, 1.2], # RElbowYaw\n",
    "          [0.5, 1.5, 0.5], # RElbowRoll\n",
    "          [0.0, 0.0, 0.0]] # RWristYaw\n",
    "\n",
    "# Define the time intervals for each movement\n",
    "times = [[1.0, 2.5, 4.5], # HeadPitch\n",
    "         [1.5, 2.5, 3.5, 4.5], # HeadYaw\n",
    "         [1.5, 3.5, 4.5], # LShoulderPitch\n",
    "         [1.5, 3.5, 4.5], # LShoulderRoll\n",
    "         [1.0, 2.0, 3.0], # LElbowYaw\n",
    "         [1.0, 2.0, 3.0], # LElbowRoll\n",
    "         [1.0, 2.0, 3.0], # LWristYaw\n",
    "         [1.0, 2.0, 3.0], # RShoulderPitch\n",
    "         [1.0, 2.0, 3.0], # RShoulderRoll\n",
    "         [1.0, 2.0, 3.0], # RElbowYaw\n",
    "         [1.0, 2.0, 3.0], # RElbowRoll\n",
    "         [1.0, 2.0, 3.0]] # RWristYaw\n",
    "\n",
    "# Set the movement to be absolute angles\n",
    "isAbsolute = True"
   ]
  },
  {
   "cell_type": "code",
   "execution_count": 81,
   "metadata": {},
   "outputs": [],
   "source": [
    "motion.angleInterpolation(names, angles, times, isAbsolute)"
   ]
  },
  {
   "cell_type": "code",
   "execution_count": 82,
   "metadata": {},
   "outputs": [
    {
     "data": {
      "text/plain": [
       "False"
      ]
     },
     "execution_count": 82,
     "metadata": {},
     "output_type": "execute_result"
    }
   ],
   "source": [
    "session = qi.Session()\n",
    "session.connect(\"tcp://\" + PEPPER_IP + \":\" + str(PEPPER_PORT))\n",
    "# use session object for your requests\n",
    "posture_service = session.service(\"ALRobotPosture\")\n",
    "posture_service.goToPosture(\"StandInit\", 1.0)"
   ]
  },
  {
   "cell_type": "code",
   "execution_count": 86,
   "metadata": {},
   "outputs": [],
   "source": [
    "# Create a proxy to ALMotion\n",
    "motion = ALProxy(\"ALMotion\", PEPPER_IP, PEPPER_PORT)\n",
    "# Create a proxy to ALSpeech\n",
    "tts = ALProxy(\"ALTextToSpeech\", PEPPER_IP, PEPPER_PORT)\n",
    "\n",
    "# Wake up robot\n",
    "motion.wakeUp()\n",
    "\n",
    "# Set stiffness for both arms\n",
    "motion.setStiffnesses([\"LArm\", \"RArm\"], 1.0)\n",
    "\n",
    "# Define the names and angles of the joints to move\n",
    "names = [\"HeadPitch\", \"HeadYaw\",\n",
    "         \"LShoulderPitch\", \"LShoulderRoll\", \"LElbowYaw\", \"LElbowRoll\", \"LWristYaw\",\n",
    "         \"RShoulderPitch\", \"RShoulderRoll\", \"RElbowYaw\", \"RElbowRoll\", \"RWristYaw\"]\n",
    "angles = [[0.0, -0.2, 0.0], # HeadPitch\n",
    "          [0.0, 0.5, -0.5, 0.0], # HeadYaw\n",
    "          [0.0, -1.0, 0.0], # LShoulderPitch\n",
    "          [0.3, 1.2, 0.3], # LShoulderRoll\n",
    "          [-1.2, -0.8, -1.2], # LElbowYaw\n",
    "          [-0.5, -1.5, -0.5], # LElbowRoll\n",
    "          [0.0, 0.0, 0.0], # LWristYaw\n",
    "          [0.0, -1.0, 0.0], # RShoulderPitch\n",
    "          [-0.3, -1.2, -0.3], # RShoulderRoll\n",
    "          [1.2, 0.8, 1.2], # RElbowYaw\n",
    "          [0.5, 1.5, 0.5], # RElbowRoll\n",
    "          [0.0, 0.0, 0.0]] # RWristYaw\n",
    "\n",
    "# Define the time intervals for each movement\n",
    "times = [[1.0, 2.5, 4.5], # HeadPitch\n",
    "         [1.5, 2.5, 3.5, 4.5], # HeadYaw\n",
    "         [1.5, 3.5, 4.5], # LShoulderPitch\n",
    "         [1.5, 3.5, 4.5], # LShoulderRoll\n",
    "         [1.0, 2.0, 3.0], # LElbowYaw\n",
    "         [1.0, 2.0, 3.0], # LElbowRoll\n",
    "         [1.0, 2.0, 3.0], # LWristYaw\n",
    "         [1.0, 2.0, 3.0], # RShoulderPitch\n",
    "         [1.0, 2.0, 3.0], # RShoulderRoll\n",
    "         [1.0, 2.0, 3.0], # RElbowYaw\n",
    "         [1.0, 2.0, 3.0], # RElbowRoll\n",
    "         [1.0, 2.0, 3.0]] # RWristYaw\n",
    "\n",
    "# Set the movement to be absolute angles\n",
    "isAbsolute = True\n",
    "\n",
    "# Execute the movement\n",
    "\n",
    "\n",
    "def motion_fun():\n",
    "    motion.angleInterpolation(names, angles, times, isAbsolute)\n",
    "\n",
    "def say():  \n",
    "  tts.say(\"Hello, my name is KAI. Nice to meet everyone\")\n",
    "\n",
    "# action = threading.Thread(args=(motion.angleInterpolation(names, angles, times, isAbsolute), tts.say(\"Hello, my name is KAI. Nice to meet everyone\")))\n"
   ]
  },
  {
   "cell_type": "code",
   "execution_count": 89,
   "metadata": {},
   "outputs": [],
   "source": [
    "a = threading.Thread(target = motion_fun)\n",
    "b = threading.Thread(target = say)\n",
    "\n",
    "a.start()\n",
    "b.start()"
   ]
  },
  {
   "cell_type": "code",
   "execution_count": 90,
   "metadata": {},
   "outputs": [
    {
     "data": {
      "text/plain": [
       "False"
      ]
     },
     "execution_count": 90,
     "metadata": {},
     "output_type": "execute_result"
    }
   ],
   "source": [
    "session = qi.Session()\n",
    "session.connect(\"tcp://\" + PEPPER_IP + \":\" + str(PEPPER_PORT))\n",
    "# use session object for your requests\n",
    "posture_service = session.service(\"ALRobotPosture\")\n",
    "posture_service.goToPosture(\"StandInit\", 1.0)\n",
    "# # Hold both arms in their current position\n",
    "# motion.hold([\"LArm\", \"RArm\"], 0)\n",
    "\n",
    "# # Set stiffness for both arms to zero\n",
    "# motion.setStiffnesses([\"LArm\", \"RArm\"], 0)"
   ]
  },
  {
   "cell_type": "code",
   "execution_count": 71,
   "metadata": {},
   "outputs": [
    {
     "ename": "RuntimeError",
     "evalue": "Session not connected.",
     "output_type": "error",
     "traceback": [
      "\u001b[0;31m\u001b[0m",
      "\u001b[0;31mRuntimeError\u001b[0mTraceback (most recent call last)",
      "\u001b[0;32m<ipython-input-71-c46f0622d634>\u001b[0m in \u001b[0;36m<module>\u001b[0;34m()\u001b[0m\n\u001b[1;32m      5\u001b[0m \u001b[0msession\u001b[0m \u001b[0;34m=\u001b[0m \u001b[0mqi\u001b[0m\u001b[0;34m.\u001b[0m\u001b[0mSession\u001b[0m\u001b[0;34m(\u001b[0m\u001b[0;34m)\u001b[0m\u001b[0;34m\u001b[0m\u001b[0m\n\u001b[1;32m      6\u001b[0m \u001b[0;31m# use session object for your requests\u001b[0m\u001b[0;34m\u001b[0m\u001b[0;34m\u001b[0m\u001b[0m\n\u001b[0;32m----> 7\u001b[0;31m \u001b[0mposture_service\u001b[0m \u001b[0;34m=\u001b[0m \u001b[0msession\u001b[0m\u001b[0;34m.\u001b[0m\u001b[0mservice\u001b[0m\u001b[0;34m(\u001b[0m\u001b[0;34m\"ALRobotPosture\"\u001b[0m\u001b[0;34m)\u001b[0m\u001b[0;34m\u001b[0m\u001b[0m\n\u001b[0m\u001b[1;32m      8\u001b[0m \u001b[0mposture_service\u001b[0m\u001b[0;34m.\u001b[0m\u001b[0mgoToPosture\u001b[0m\u001b[0;34m(\u001b[0m\u001b[0;34m\"StandInit\"\u001b[0m\u001b[0;34m,\u001b[0m \u001b[0;36m1.0\u001b[0m\u001b[0;34m)\u001b[0m\u001b[0;34m\u001b[0m\u001b[0m\n",
      "\u001b[0;31mRuntimeError\u001b[0m: Session not connected."
     ]
    }
   ],
   "source": [
    "import qi\n",
    "import argparse\n",
    "import sys\n",
    "import requests"
   ]
  },
  {
   "cell_type": "code",
   "execution_count": 73,
   "metadata": {},
   "outputs": [
    {
     "data": {
      "text/plain": [
       "True"
      ]
     },
     "execution_count": 73,
     "metadata": {},
     "output_type": "execute_result"
    }
   ],
   "source": [
    "session = qi.Session()\n",
    "session.connect(\"tcp://\" + PEPPER_IP + \":\" + str(PEPPER_PORT))\n",
    "# use session object for your requests\n",
    "posture_service = session.service(\"ALRobotPosture\")\n",
    "posture_service.goToPosture(\"StandInit\", 1.0)"
   ]
  },
  {
   "cell_type": "code",
   "execution_count": 57,
   "metadata": {},
   "outputs": [],
   "source": [
    "action = threading.Thread(args=(motion.angleInterpolation(names, angles, times, isAbsolute), tts.say(\"Hello, my name is KAI. Nice to meet everyone\")))\n",
    "action.start()"
   ]
  },
  {
   "cell_type": "code",
   "execution_count": 65,
   "metadata": {},
   "outputs": [],
   "source": [
    "# Go to rest position\n",
    "motion.rest()"
   ]
  },
  {
   "cell_type": "code",
   "execution_count": 50,
   "metadata": {},
   "outputs": [],
   "source": [
    "# Create a proxy to ALMotion\n",
    "motion = ALProxy(\"ALMotion\", PEPPER_IP, PEPPER_PORT)\n",
    "\n",
    "# Wake up robot\n",
    "motion.wakeUp()\n",
    "\n",
    "# Set stiffness for right arm\n",
    "motion.setStiffnesses(\"RArm\", 1.0)\n",
    "\n",
    "# Define the names and angles of the joints to move\n",
    "names = [\"RShoulderPitch\", \"RShoulderRoll\", \"RElbowYaw\", \"RElbowRoll\", \"RWristYaw\"]\n",
    "angles = [[0.0, -1.0, 0.0], # RShoulderPitch\n",
    "          [-0.3, -1.2, -0.3], # RShoulderRoll\n",
    "          [1.2, 0.8, 1.2], # RElbowYaw\n",
    "          [0.5, 1.5, 0.5], # RElbowRoll\n",
    "          [0.0, 0.0, 0.0]] # RWristYaw\n",
    "\n",
    "# Define the time intervals for each movement\n",
    "times = [[1.0, 2.0, 3.0], # RShoulderPitch\n",
    "         [1.0, 2.0, 3.0], # RShoulderRoll\n",
    "         [1.0, 2.0, 3.0], # RElbowYaw\n",
    "         [1.0, 2.0, 3.0], # RElbowRoll\n",
    "         [1.0, 2.0, 3.0]] # RWristYaw\n",
    "\n",
    "# Set the movement to be absolute angles\n",
    "isAbsolute = True\n",
    "\n",
    "# Execute the movement\n",
    "motion.angleInterpolation(names, angles, times, isAbsolute)\n",
    "\n",
    "tts = ALProxy(\"ALTextToSpeech\", PEPPER_IP, PEPPER_PORT)\n",
    "tts.say(\"Hello, my name is KAI. Nice to meet everyone\")\n",
    "\n",
    "# # Hold the right arm in its current position\n",
    "# motion.hold(\"RArm\", 0)\n",
    "\n",
    "# Set stiffness for right arm to zero\n",
    "motion.setStiffnesses(\"RArm\", 0.0)\n",
    "\n",
    "# Go to rest position\n",
    "motion.rest()"
   ]
  },
  {
   "cell_type": "code",
   "execution_count": 62,
   "metadata": {},
   "outputs": [
    {
     "ename": "RuntimeError",
     "evalue": "\tALAnimationPlayer::rest\n\tCan't find method: rest (resolved to '()')\n",
     "output_type": "error",
     "traceback": [
      "\u001b[0;31m\u001b[0m",
      "\u001b[0;31mRuntimeError\u001b[0mTraceback (most recent call last)",
      "\u001b[0;32m<ipython-input-62-7c475e50ea9b>\u001b[0m in \u001b[0;36m<module>\u001b[0;34m()\u001b[0m\n\u001b[1;32m     15\u001b[0m \u001b[0;34m\u001b[0m\u001b[0m\n\u001b[1;32m     16\u001b[0m \u001b[0;31m# Go to rest position\u001b[0m\u001b[0;34m\u001b[0m\u001b[0;34m\u001b[0m\u001b[0m\n\u001b[0;32m---> 17\u001b[0;31m \u001b[0manimation_player\u001b[0m\u001b[0;34m.\u001b[0m\u001b[0mrest\u001b[0m\u001b[0;34m(\u001b[0m\u001b[0;34m)\u001b[0m\u001b[0;34m\u001b[0m\u001b[0m\n\u001b[0m",
      "\u001b[0;32m/home/sougato97/naoqi/pynaoqi-python2.7-2.8.6.23-linux64-20191127_152327/lib/python2.7/site-packages/naoqi.pyc\u001b[0m in \u001b[0;36m__call__\u001b[0;34m(self, *args, **kwargs)\u001b[0m\n\u001b[1;32m    192\u001b[0m                     \u001b[0mself\u001b[0m\u001b[0;34m.\u001b[0m\u001b[0m__method__\u001b[0m \u001b[0;34m=\u001b[0m \u001b[0mmethod\u001b[0m\u001b[0;34m\u001b[0m\u001b[0m\n\u001b[1;32m    193\u001b[0m                 \u001b[0;32mdef\u001b[0m \u001b[0m__call__\u001b[0m\u001b[0;34m(\u001b[0m\u001b[0mself\u001b[0m\u001b[0;34m,\u001b[0m \u001b[0;34m*\u001b[0m\u001b[0margs\u001b[0m\u001b[0;34m,\u001b[0m \u001b[0;34m**\u001b[0m\u001b[0mkwargs\u001b[0m\u001b[0;34m)\u001b[0m\u001b[0;34m:\u001b[0m\u001b[0;34m\u001b[0m\u001b[0m\n\u001b[0;32m--> 194\u001b[0;31m                     \u001b[0;32mreturn\u001b[0m \u001b[0mself\u001b[0m\u001b[0;34m.\u001b[0m\u001b[0m__wrapped__\u001b[0m\u001b[0;34m.\u001b[0m\u001b[0mmethod_missing\u001b[0m\u001b[0;34m(\u001b[0m\u001b[0mself\u001b[0m\u001b[0;34m.\u001b[0m\u001b[0m__method__\u001b[0m\u001b[0;34m,\u001b[0m \u001b[0;34m*\u001b[0m\u001b[0margs\u001b[0m\u001b[0;34m,\u001b[0m \u001b[0;34m**\u001b[0m\u001b[0mkwargs\u001b[0m\u001b[0;34m)\u001b[0m\u001b[0;34m\u001b[0m\u001b[0m\n\u001b[0m\u001b[1;32m    195\u001b[0m \u001b[0;34m\u001b[0m\u001b[0m\n\u001b[1;32m    196\u001b[0m             \u001b[0;32mreturn\u001b[0m \u001b[0mMethodMissing\u001b[0m\u001b[0;34m(\u001b[0m\u001b[0mself\u001b[0m\u001b[0;34m,\u001b[0m \u001b[0mattr\u001b[0m\u001b[0;34m)\u001b[0m\u001b[0;34m\u001b[0m\u001b[0m\n",
      "\u001b[0;32m/home/sougato97/naoqi/pynaoqi-python2.7-2.8.6.23-linux64-20191127_152327/lib/python2.7/site-packages/naoqi.pyc\u001b[0m in \u001b[0;36mmethod_missing\u001b[0;34m(self, method, *args, **kwargs)\u001b[0m\n\u001b[1;32m    262\u001b[0m                 \u001b[0mresult\u001b[0m \u001b[0;34m=\u001b[0m \u001b[0mself\u001b[0m\u001b[0;34m.\u001b[0m\u001b[0mpythonCall\u001b[0m\u001b[0;34m(\u001b[0m\u001b[0mlist\u001b[0m\u001b[0;34m)\u001b[0m\u001b[0;34m\u001b[0m\u001b[0m\n\u001b[1;32m    263\u001b[0m           \u001b[0;32mexcept\u001b[0m \u001b[0mRuntimeError\u001b[0m\u001b[0;34m,\u001b[0m\u001b[0me\u001b[0m\u001b[0;34m:\u001b[0m\u001b[0;34m\u001b[0m\u001b[0m\n\u001b[0;32m--> 264\u001b[0;31m                 \u001b[0;32mraise\u001b[0m \u001b[0me\u001b[0m\u001b[0;34m\u001b[0m\u001b[0m\n\u001b[0m\u001b[1;32m    265\u001b[0m                 \u001b[0;31m#print e.args[0]\u001b[0m\u001b[0;34m\u001b[0m\u001b[0;34m\u001b[0m\u001b[0m\n\u001b[1;32m    266\u001b[0m \u001b[0;34m\u001b[0m\u001b[0m\n",
      "\u001b[0;31mRuntimeError\u001b[0m: \tALAnimationPlayer::rest\n\tCan't find method: rest (resolved to '()')\n"
     ]
    }
   ],
   "source": [
    "# Create a proxy to ALMotion\n",
    "motion = ALProxy(\"ALMotion\", PEPPER_IP, PEPPER_PORT)\n",
    "\n",
    "# Wake up robot\n",
    "motion.wakeUp()\n",
    "\n",
    "# Create a proxy to ALAnimationPlayer\n",
    "animation_player = ALProxy(\"ALAnimationPlayer\", PEPPER_IP, PEPPER_PORT)\n",
    "\n",
    "# # Wake up robot\n",
    "# animation_player.wakeUp()\n",
    "\n",
    "# Play an animation from the library\n",
    "animation_player.run(\"animations/Stand/Gestures/Hey_1\")\n",
    "\n",
    "# Go to rest position\n",
    "animation_player.rest()\n"
   ]
  },
  {
   "cell_type": "code",
   "execution_count": 9,
   "metadata": {},
   "outputs": [
    {
     "name": "stdout",
     "output_type": "stream",
     "text": [
      "True\n"
     ]
    }
   ],
   "source": [
    "if motion.wakeUp():\n",
    "  print(\"True\")\n",
    "else:\n",
    "  print(\"False\")"
   ]
  },
  {
   "attachments": {},
   "cell_type": "markdown",
   "metadata": {},
   "source": [
    "Getting a proxy to ALVideoRecorder"
   ]
  },
  {
   "cell_type": "code",
   "execution_count": 6,
   "metadata": {},
   "outputs": [],
   "source": [
    "# Create a proxy to ALVideoRecorder\n",
    "try:\n",
    "  videoRecorderProxy = ALProxy(\"ALVideoRecorder\", NAO_IP, NAO_PORT)\n",
    "except Exception, e:\n",
    "  print \"Error when creating ALVideoRecorder proxy:\"\n",
    "  print str(e)\n",
    "  exit(1)"
   ]
  },
  {
   "attachments": {},
   "cell_type": "markdown",
   "metadata": {},
   "source": [
    "Record a video file"
   ]
  },
  {
   "cell_type": "code",
   "execution_count": 7,
   "metadata": {},
   "outputs": [],
   "source": [
    "videoRecorderProxy.setFrameRate(10.0)\n",
    "videoRecorderProxy.setResolution(2) # Set resolution to VGA (640 x 480)"
   ]
  },
  {
   "cell_type": "code",
   "execution_count": 8,
   "metadata": {},
   "outputs": [],
   "source": [
    "# import os\n",
    "\n",
    "# # Print the current working directory\n",
    "# print(\"Current working directory: {0}\".format(os.getcwd()))\n",
    "\n",
    "# # Change the current working directory\n",
    "# os.chdir('/root')\n",
    "\n",
    "# # Print the current working directory\n",
    "# print(\"Current working directory: {0}\".format(os.getcwd()))"
   ]
  },
  {
   "cell_type": "code",
   "execution_count": 9,
   "metadata": {},
   "outputs": [
    {
     "name": "stdout",
     "output_type": "stream",
     "text": [
      "/home/sougato97/recordings\n"
     ]
    }
   ],
   "source": [
    "print (os.getcwd())"
   ]
  },
  {
   "cell_type": "code",
   "execution_count": 16,
   "metadata": {},
   "outputs": [
    {
     "ename": "RuntimeError",
     "evalue": "\tALVideoRecorder::startRecording\n\tboost::filesystem::create_directories: Permission denied: \"/home/sougato97\"",
     "output_type": "error",
     "traceback": [
      "\u001b[0;31m\u001b[0m",
      "\u001b[0;31mRuntimeError\u001b[0mTraceback (most recent call last)",
      "\u001b[0;32m<ipython-input-16-743a2908a9c5>\u001b[0m in \u001b[0;36m<module>\u001b[0;34m()\u001b[0m\n\u001b[1;32m      1\u001b[0m \u001b[0;31m# We'll save a 5 second video record in /home/sougato97/recordings/\u001b[0m\u001b[0;34m\u001b[0m\u001b[0;34m\u001b[0m\u001b[0m\n\u001b[0;32m----> 2\u001b[0;31m \u001b[0mvideoRecorderProxy\u001b[0m\u001b[0;34m.\u001b[0m\u001b[0mstartRecording\u001b[0m\u001b[0;34m(\u001b[0m\u001b[0;34m\"/home/sougato97/recordings\"\u001b[0m\u001b[0;34m,\u001b[0m \u001b[0;34m\"first_video\"\u001b[0m\u001b[0;34m)\u001b[0m\u001b[0;34m\u001b[0m\u001b[0m\n\u001b[0m\u001b[1;32m      3\u001b[0m \u001b[0;32mprint\u001b[0m \u001b[0;34m\"Video record started.\"\u001b[0m\u001b[0;34m\u001b[0m\u001b[0m\n\u001b[1;32m      4\u001b[0m \u001b[0mtime\u001b[0m\u001b[0;34m.\u001b[0m\u001b[0msleep\u001b[0m\u001b[0;34m(\u001b[0m\u001b[0;36m5\u001b[0m\u001b[0;34m)\u001b[0m\u001b[0;34m\u001b[0m\u001b[0m\n\u001b[1;32m      5\u001b[0m \u001b[0mvideoInfo\u001b[0m \u001b[0;34m=\u001b[0m \u001b[0mvideoRecorderProxy\u001b[0m\u001b[0;34m.\u001b[0m\u001b[0mstopRecording\u001b[0m\u001b[0;34m(\u001b[0m\u001b[0;34m)\u001b[0m\u001b[0;34m\u001b[0m\u001b[0m\n",
      "\u001b[0;32m/home/sougato97/naoqi/pynaoqi-python2.7-2.8.6.23-linux64-20191127_152327/lib/python2.7/site-packages/naoqi.pyc\u001b[0m in \u001b[0;36m__call__\u001b[0;34m(self, *args, **kwargs)\u001b[0m\n\u001b[1;32m    192\u001b[0m                     \u001b[0mself\u001b[0m\u001b[0;34m.\u001b[0m\u001b[0m__method__\u001b[0m \u001b[0;34m=\u001b[0m \u001b[0mmethod\u001b[0m\u001b[0;34m\u001b[0m\u001b[0m\n\u001b[1;32m    193\u001b[0m                 \u001b[0;32mdef\u001b[0m \u001b[0m__call__\u001b[0m\u001b[0;34m(\u001b[0m\u001b[0mself\u001b[0m\u001b[0;34m,\u001b[0m \u001b[0;34m*\u001b[0m\u001b[0margs\u001b[0m\u001b[0;34m,\u001b[0m \u001b[0;34m**\u001b[0m\u001b[0mkwargs\u001b[0m\u001b[0;34m)\u001b[0m\u001b[0;34m:\u001b[0m\u001b[0;34m\u001b[0m\u001b[0m\n\u001b[0;32m--> 194\u001b[0;31m                     \u001b[0;32mreturn\u001b[0m \u001b[0mself\u001b[0m\u001b[0;34m.\u001b[0m\u001b[0m__wrapped__\u001b[0m\u001b[0;34m.\u001b[0m\u001b[0mmethod_missing\u001b[0m\u001b[0;34m(\u001b[0m\u001b[0mself\u001b[0m\u001b[0;34m.\u001b[0m\u001b[0m__method__\u001b[0m\u001b[0;34m,\u001b[0m \u001b[0;34m*\u001b[0m\u001b[0margs\u001b[0m\u001b[0;34m,\u001b[0m \u001b[0;34m**\u001b[0m\u001b[0mkwargs\u001b[0m\u001b[0;34m)\u001b[0m\u001b[0;34m\u001b[0m\u001b[0m\n\u001b[0m\u001b[1;32m    195\u001b[0m \u001b[0;34m\u001b[0m\u001b[0m\n\u001b[1;32m    196\u001b[0m             \u001b[0;32mreturn\u001b[0m \u001b[0mMethodMissing\u001b[0m\u001b[0;34m(\u001b[0m\u001b[0mself\u001b[0m\u001b[0;34m,\u001b[0m \u001b[0mattr\u001b[0m\u001b[0;34m)\u001b[0m\u001b[0;34m\u001b[0m\u001b[0m\n",
      "\u001b[0;32m/home/sougato97/naoqi/pynaoqi-python2.7-2.8.6.23-linux64-20191127_152327/lib/python2.7/site-packages/naoqi.pyc\u001b[0m in \u001b[0;36mmethod_missing\u001b[0;34m(self, method, *args, **kwargs)\u001b[0m\n\u001b[1;32m    262\u001b[0m                 \u001b[0mresult\u001b[0m \u001b[0;34m=\u001b[0m \u001b[0mself\u001b[0m\u001b[0;34m.\u001b[0m\u001b[0mpythonCall\u001b[0m\u001b[0;34m(\u001b[0m\u001b[0mlist\u001b[0m\u001b[0;34m)\u001b[0m\u001b[0;34m\u001b[0m\u001b[0m\n\u001b[1;32m    263\u001b[0m           \u001b[0;32mexcept\u001b[0m \u001b[0mRuntimeError\u001b[0m\u001b[0;34m,\u001b[0m\u001b[0me\u001b[0m\u001b[0;34m:\u001b[0m\u001b[0;34m\u001b[0m\u001b[0m\n\u001b[0;32m--> 264\u001b[0;31m                 \u001b[0;32mraise\u001b[0m \u001b[0me\u001b[0m\u001b[0;34m\u001b[0m\u001b[0m\n\u001b[0m\u001b[1;32m    265\u001b[0m                 \u001b[0;31m#print e.args[0]\u001b[0m\u001b[0;34m\u001b[0m\u001b[0;34m\u001b[0m\u001b[0m\n\u001b[1;32m    266\u001b[0m \u001b[0;34m\u001b[0m\u001b[0m\n",
      "\u001b[0;31mRuntimeError\u001b[0m: \tALVideoRecorder::startRecording\n\tboost::filesystem::create_directories: Permission denied: \"/home/sougato97\""
     ]
    }
   ],
   "source": [
    "# We'll save a 5 second video record in /home/sougato97/recordings/\n",
    "videoRecorderProxy.startRecording(\".\", \"first_video\")\n",
    "print \"Video record started.\"\n",
    "time.sleep(5)\n",
    "videoInfo = videoRecorderProxy.stopRecording()\n",
    "print \"Video recording successful.\""
   ]
  },
  {
   "cell_type": "code",
   "execution_count": 15,
   "metadata": {},
   "outputs": [
    {
     "name": "stdout",
     "output_type": "stream",
     "text": [
      "Video was saved on the robot:  ./first_video.avi\n",
      "Total number of frames:  50\n"
     ]
    }
   ],
   "source": [
    "print \"Video was saved on the robot: \", videoInfo[1]\n",
    "print \"Total number of frames: \", videoInfo[0]"
   ]
  },
  {
   "cell_type": "code",
   "execution_count": null,
   "metadata": {},
   "outputs": [],
   "source": [
    "print(os.getcwd())"
   ]
  },
  {
   "cell_type": "code",
   "execution_count": null,
   "metadata": {},
   "outputs": [],
   "source": []
  }
 ],
 "metadata": {
  "kernelspec": {
   "display_name": "Python 3",
   "language": "python",
   "name": "python3"
  },
  "language_info": {
   "codemirror_mode": {
    "name": "ipython",
    "version": 2
   },
   "file_extension": ".py",
   "mimetype": "text/x-python",
   "name": "python",
   "nbconvert_exporter": "python",
   "pygments_lexer": "ipython2",
   "version": "2.7.17"
  },
  "orig_nbformat": 4,
  "vscode": {
   "interpreter": {
    "hash": "767d51c1340bd893661ea55ea3124f6de3c7a262a8b4abca0554b478b1e2ff90"
   }
  }
 },
 "nbformat": 4,
 "nbformat_minor": 2
}
