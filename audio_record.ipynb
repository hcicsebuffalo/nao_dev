{
 "cells": [
  {
   "cell_type": "code",
   "execution_count": 16,
   "metadata": {},
   "outputs": [],
   "source": [
    "import pyaudio\n",
    "import os\n",
    "import wave"
   ]
  },
  {
   "cell_type": "markdown",
   "metadata": {},
   "source": [
    "# Record Audio"
   ]
  },
  {
   "cell_type": "code",
   "execution_count": 29,
   "metadata": {},
   "outputs": [],
   "source": [
    "user_name = \"didi\"\n",
    "\n",
    "# audio_type = \"clean1\" # Hello, How are you\n",
    "# audio_type = \"clean2\" # I am studying at university at buffalo\n",
    "# audio_type = \"clean3\" # Who is president of united states\n",
    "# audio_type = \"noise1\" # How can I go to Capen Hall\n",
    "# audio_type = \"noise2\" # I ran 4km in 20 minutes\n",
    "audio_type = \"noise3\" # I am going to sleep now"
   ]
  },
  {
   "cell_type": "code",
   "execution_count": 30,
   "metadata": {},
   "outputs": [
    {
     "name": "stdout",
     "output_type": "stream",
     "text": [
      " Recording audio \n",
      "Done recording\n",
      "Saved file\n"
     ]
    }
   ],
   "source": [
    "# Set the parameters for the audio stream\n",
    "print(\" Recording audio \")\n",
    "chunk = 1024\n",
    "sample_format = pyaudio.paInt16\n",
    "channels = 1\n",
    "fs = 48000\n",
    "\n",
    "# Initialize the PyAudio object\n",
    "p = pyaudio.PyAudio()\n",
    "\n",
    "duration = 7\n",
    "\n",
    "# Open the audio stream\n",
    "stream = p.open(format=sample_format,\n",
    "                channels=channels,\n",
    "                rate=fs,\n",
    "                frames_per_buffer=chunk,\n",
    "                input=True)\n",
    "\n",
    "frames = []\n",
    "\n",
    "# Record the audio for the specified duration\n",
    "for i in range(int(fs / chunk * duration)):\n",
    "    data = stream.read(chunk)\n",
    "    frames.append(data)\n",
    "\n",
    "# Stop and close the audio stream\n",
    "stream.stop_stream()\n",
    "stream.close()\n",
    "\n",
    "# Terminate the PyAudio object\n",
    "p.terminate()\n",
    "\n",
    "print(\"Done recording\")\n",
    "\n",
    "file_path = \"dataset/\" + user_name + \"/audio/\" + audio_type + \".wav\"\n",
    "wf = wave.open(file_path, 'wb')\n",
    "wf.setnchannels(channels)\n",
    "wf.setsampwidth(p.get_sample_size(sample_format))\n",
    "wf.setframerate(fs)\n",
    "wf.writeframes(b''.join(frames))\n",
    "wf.close()\n",
    "\n",
    "print(\"Saved file\")\n"
   ]
  },
  {
   "cell_type": "code",
   "execution_count": 45,
   "metadata": {},
   "outputs": [],
   "source": [
    "\n"
   ]
  },
  {
   "cell_type": "code",
   "execution_count": null,
   "metadata": {},
   "outputs": [],
   "source": []
  },
  {
   "cell_type": "code",
   "execution_count": null,
   "metadata": {},
   "outputs": [],
   "source": []
  }
 ],
 "metadata": {
  "kernelspec": {
   "display_name": "hri",
   "language": "python",
   "name": "python3"
  },
  "language_info": {
   "codemirror_mode": {
    "name": "ipython",
    "version": 3
   },
   "file_extension": ".py",
   "mimetype": "text/x-python",
   "name": "python",
   "nbconvert_exporter": "python",
   "pygments_lexer": "ipython3",
   "version": "3.8.18"
  },
  "orig_nbformat": 4
 },
 "nbformat": 4,
 "nbformat_minor": 2
}
